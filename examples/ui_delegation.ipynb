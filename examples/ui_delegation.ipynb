{
 "cells": [
  {
   "cell_type": "markdown",
   "id": "c6186fa396efb2d9",
   "metadata": {},
   "source": [
    "# UI delegation"
   ]
  },
  {
   "cell_type": "markdown",
   "id": "6c311cbd4db4549",
   "metadata": {},
   "source": [
    "OpenAssetIO allows applications to provide a bespoke yet natively integrated user interface for interacting with asset management systems in a pipeline. This is accomplished though _UI delegation_. A host application that wishes to present a user with a graphical interface to interact with an asset management system can request the appropriate UI element from a plugin, and be notified by the plugin when the user has performed a relevant interaction. For example, an asset browser in place of a standard file browser."
   ]
  },
  {
   "cell_type": "markdown",
   "id": "f061b965717a13dc",
   "metadata": {},
   "source": [
    "## Preamble\n",
    "\n",
    "This section establishes some boilerplate that will be useful for the rest of the notebook."
   ]
  },
  {
   "cell_type": "markdown",
   "id": "4df5572e-4601-4252-94c9-8d9609d602cf",
   "metadata": {},
   "source": [
    "First some standard OpenAssetIO boilerplate - see the Hello OpenAssetIO notebook for more details."
   ]
  },
  {
   "cell_type": "code",
   "execution_count": 1,
   "id": "c07329d33cc84496",
   "metadata": {
    "ExecuteTime": {
     "end_time": "2024-11-07T16:18:25.125792Z",
     "start_time": "2024-11-07T16:18:25.111108Z"
    }
   },
   "outputs": [],
   "source": [
    "try:\n",
    "    import openassetio\n",
    "    import openassetio_mediacreation\n",
    "except ImportError:\n",
    "    print(\n",
    "        \"This notebook requires the packages listed in `resources/requirements.txt` to be installed\"\n",
    "    )\n",
    "    raise\n",
    "\n",
    "from openassetio.hostApi import HostInterface\n",
    "from openassetio.log import ConsoleLogger, SeverityFilter\n",
    "\n",
    "\n",
    "class NotebookHostInterface(HostInterface):\n",
    "    def identifier(self):\n",
    "        return \"org.jupyter.notebook\"\n",
    "\n",
    "    def displayName(self):\n",
    "        return \"Jupyter Notebook\"\n",
    "\n",
    "\n",
    "host_interface = NotebookHostInterface()\n",
    "logger = SeverityFilter(ConsoleLogger())"
   ]
  },
  {
   "cell_type": "markdown",
   "id": "995cede19881f172",
   "metadata": {},
   "source": [
    "For demonstration purposes, we'll create a simple UI framework, making use of Jupyter's `ipywidgets` module."
   ]
  },
  {
   "cell_type": "code",
   "execution_count": 2,
   "id": "49442eea03ce9c8b",
   "metadata": {
    "ExecuteTime": {
     "end_time": "2024-11-07T16:18:25.218970Z",
     "start_time": "2024-11-07T16:18:25.158844Z"
    }
   },
   "outputs": [],
   "source": [
    "import ipywidgets\n",
    "from IPython.display import display\n",
    "\n",
    "\n",
    "class WidgetBase:\n",
    "    def __init__(self, on_value_change_cb):\n",
    "        self.__on_value_change_cb = on_value_change_cb\n",
    "        self._ipywidget = None\n",
    "\n",
    "    def attach(self):\n",
    "        display(self._ipywidget)\n",
    "        self._ipywidget.observe(self.__observer, names=\"value\")\n",
    "\n",
    "    def __observer(self, change):\n",
    "        self.__on_value_change_cb(change[\"new\"])\n",
    "\n",
    "\n",
    "class TextBoxWidget(WidgetBase):\n",
    "    def __init__(self, on_value_change_cb, placeholder=\"Enter text...\"):\n",
    "        super().__init__(on_value_change_cb)\n",
    "        self._ipywidget = ipywidgets.Text(placeholder=placeholder, continuous_update=False)\n",
    "\n",
    "    def set_text(self, text):\n",
    "        self._ipywidget.value = text\n",
    "\n",
    "    def get_text(self):\n",
    "        return self._ipywidget.value\n",
    "\n",
    "\n",
    "class LabelWidget(WidgetBase):\n",
    "    def __init__(self, label):\n",
    "        super().__init__(lambda _unused: None)\n",
    "        self._ipywidget = ipywidgets.Label(label)\n",
    "\n",
    "    def set_text(self, text):\n",
    "        self._ipywidget.value = text\n",
    "\n",
    "\n",
    "class DropdownWidget(WidgetBase):\n",
    "    def __init__(self, on_value_changed_cb, options):\n",
    "        super().__init__(on_value_changed_cb)\n",
    "        self._ipywidget = ipywidgets.Dropdown(options=options)\n",
    "\n",
    "\n",
    "class ContainerWidget(list):\n",
    "    def attach(self):\n",
    "        for widget in self:\n",
    "            widget.attach()"
   ]
  },
  {
   "cell_type": "markdown",
   "id": "cc7c8c14b846575e",
   "metadata": {},
   "source": [
    "Although we're dealing mostly with the UI delegate system in this notebook, we'll need a (basic) manager plugin too. Initially only to get a `Context`, but ultimately we'll need to illustrate how UI delegate and manager plugins may communicate."
   ]
  },
  {
   "cell_type": "code",
   "execution_count": 3,
   "id": "142d7dc7308b67dd",
   "metadata": {
    "ExecuteTime": {
     "end_time": "2024-11-07T16:18:25.329463Z",
     "start_time": "2024-11-07T16:18:25.325033Z"
    }
   },
   "outputs": [],
   "source": [
    "from openassetio.managerApi import ManagerInterface\n",
    "\n",
    "\n",
    "class NotebookManagerInterface(ManagerInterface):\n",
    "    \"\"\"\n",
    "    An absolutely minimal manager implementation.\n",
    "    \"\"\"\n",
    "\n",
    "    def entityTraits(\n",
    "        self,\n",
    "        entityReferences,\n",
    "        entityTraitsAccess,\n",
    "        context,\n",
    "        hostSession,\n",
    "        successCallback,\n",
    "        errorCallback,\n",
    "    ):\n",
    "        for idx, entity_ref in enumerate(entityReferences):\n",
    "            successCallback(idx, set())\n",
    "\n",
    "    def identifier(self):\n",
    "        return \"org.openassetio.example.notebook\"\n",
    "\n",
    "    def displayName(self):\n",
    "        return \"Notebook Manager\"\n",
    "\n",
    "    def hasCapability(self, capability):\n",
    "        return capability in (\n",
    "            ManagerInterface.Capability.kEntityReferenceIdentification,\n",
    "            ManagerInterface.Capability.kManagementPolicyQueries,\n",
    "            ManagerInterface.Capability.kEntityTraitIntrospection,\n",
    "        )\n",
    "\n",
    "    def isEntityReferenceString(self, someString, hostSession):\n",
    "        return someString.startswith(\"notebook://\")\n",
    "\n",
    "    def managementPolicy(self, traitSets, access, context, hostSession):\n",
    "        return [TraitsData() for _ in traitSets]"
   ]
  },
  {
   "cell_type": "markdown",
   "id": "bdb6b1c1e58fff5a",
   "metadata": {},
   "source": [
    "In order to use this plugin, we need a plugin system to load it. Usually, a host would use the built-in `Hybrid`/`Python`/`CppPluginSystemManagerImplementationFactory`. However, for the purposes of this notebook we'll define a custom plugin system that will simply return an instance of our `NotebookManagerInterface` defined above."
   ]
  },
  {
   "cell_type": "code",
   "execution_count": 4,
   "id": "938609802b4064d6",
   "metadata": {
    "ExecuteTime": {
     "end_time": "2024-11-07T16:18:25.370042Z",
     "start_time": "2024-11-07T16:18:25.367178Z"
    }
   },
   "outputs": [],
   "source": [
    "from openassetio.hostApi import ManagerImplementationFactoryInterface\n",
    "\n",
    "\n",
    "class NotebookPluginSystemManagerImplementationFactory(ManagerImplementationFactoryInterface):\n",
    "\n",
    "    def identifiers(self):\n",
    "        return [\"org.openassetio.example.notebook\"]\n",
    "\n",
    "    def instantiate(self, identifier):\n",
    "        assert identifier == \"org.openassetio.example.notebook\"\n",
    "        return NotebookManagerInterface()"
   ]
  },
  {
   "cell_type": "markdown",
   "id": "e6ccf857cebe91d7",
   "metadata": {},
   "source": [
    "With the notebook plugin system now available, we can use it to construct a `Manager` instance and from that retrieve a `Context`. We'll wrap the manager creation in a function for reuse later."
   ]
  },
  {
   "cell_type": "code",
   "execution_count": 5,
   "id": "b6c214a2e5c27029",
   "metadata": {
    "ExecuteTime": {
     "end_time": "2024-11-07T16:18:25.417835Z",
     "start_time": "2024-11-07T16:18:25.414900Z"
    }
   },
   "outputs": [],
   "source": [
    "from openassetio.hostApi import ManagerFactory\n",
    "\n",
    "\n",
    "def make_manager():\n",
    "    manager = ManagerFactory.createManagerForInterface(\n",
    "        \"org.openassetio.example.notebook\",\n",
    "        host_interface,\n",
    "        NotebookPluginSystemManagerImplementationFactory(logger),\n",
    "        logger,\n",
    "    )\n",
    "    manager.initialize({})\n",
    "    return manager\n",
    "\n",
    "\n",
    "manager = make_manager()\n",
    "context = manager.createContext()"
   ]
  },
  {
   "cell_type": "markdown",
   "id": "757e395e0c0c01dd",
   "metadata": {},
   "source": [
    "## Hello UI"
   ]
  },
  {
   "cell_type": "markdown",
   "id": "372d29a9f17f3139",
   "metadata": {},
   "source": [
    "Let's start by defining the most minimal UI delegate plugin possible. The following UI delegate doesn't do anything interesting - it simply refuses any request."
   ]
  },
  {
   "cell_type": "code",
   "execution_count": 6,
   "id": "3e4f5efe4b96c291",
   "metadata": {
    "ExecuteTime": {
     "end_time": "2024-11-07T16:18:25.467811Z",
     "start_time": "2024-11-07T16:18:25.460870Z"
    }
   },
   "outputs": [],
   "source": [
    "from typing import Optional\n",
    "\n",
    "from openassetio import Context\n",
    "from openassetio.managerApi import HostSession\n",
    "from openassetio.trait import TraitsData\n",
    "from openassetio.ui import UIDelegateRequest, UIDelegateState\n",
    "from openassetio.ui.access import UIAccess\n",
    "from openassetio.ui.managerApi import UIDelegateInterface\n",
    "\n",
    "InfoDictionary = dict[str, int | float | str | bool]\n",
    "\n",
    "\n",
    "class NotebookUIDelegateInterface(UIDelegateInterface):\n",
    "    def identifier(self):\n",
    "        return \"org.openassetio.example.notebook\"\n",
    "\n",
    "    def displayName(self):\n",
    "        return \"Notebook UI delegate\"\n",
    "\n",
    "    def info(self) -> InfoDictionary:\n",
    "        return {}\n",
    "\n",
    "    def initialize(self, uiDelegateSettings: InfoDictionary, hostSession: HostSession):\n",
    "        pass\n",
    "\n",
    "    def close(self, hostSession: HostSession):\n",
    "        pass\n",
    "\n",
    "    def settings(self, hostSession: HostSession) -> InfoDictionary:\n",
    "        return {}\n",
    "\n",
    "    def uiPolicy(\n",
    "        self, uiTraits: set[str], uiAccess: UIAccess, context: Context, hostSession: HostSession\n",
    "    ) -> TraitsData:\n",
    "        policy = TraitsData()\n",
    "        return policy\n",
    "\n",
    "    def populateUI(\n",
    "        self,\n",
    "        uiTraitsData: TraitsData,\n",
    "        uiAccess: UIAccess,\n",
    "        request: UIDelegateRequest,\n",
    "        context: Context,\n",
    "        hostSession: HostSession,\n",
    "    ) -> Optional[UIDelegateState]:\n",
    "        return None"
   ]
  },
  {
   "cell_type": "markdown",
   "id": "f5d0c3706b1e4e17",
   "metadata": {},
   "source": [
    "We have several methods that must be overridden from the base `UIDelegateInterface` class. Most of them mirror a method in manager plugins (`ManagerInterface`), and have similar usage.\n",
    "\n",
    "The `identifier` _must_ match the identifier of the corresponding manager plugin. It is this that is used to link the two plugins together, in particular when loading the plugin.\n",
    "\n",
    "`displayName` may be used by host applications for logging, plugin selection, etc.\n",
    "\n",
    "`info` may be used to communicate arbitrary metadata about the plugin as a simple string key - primitive value dictionary. Certain keys have a special meaning. For example `kInfoKey_PythonOnly` (`\"pythonOnly\"`) indicates that the plugin is written in pure Python (this particular key is automatically added to the `info()` for Python plugins).\n",
    "\n",
    "`initialize` must be called before the plugin can be used. It is called automatically by `UIDelegateFactory.defaultManagerForInterface()` - the `uiDelegateSettings` in this case will be the same settings as provided to the corresponding manager plugin, from the file specified by the `OPENASSETIO_DEFAULT_CONFIG` environment variable.\n",
    "\n",
    "`close` instructs the UI delegate to dispose of all held references and clean up ready for destruction. It is called automatically when the corresponding `UIDelegate` middleware instance, held by the host application, is destroyed. However, it can be called explicitly by the host to clean up and re-use the UI delegate.\n",
    "\n",
    "`settings` returns the current settings applied to the UI delegate (including any default values). These settings should reflect those passed in to `initialize`.\n",
    "\n",
    "`uiPolicy` is the UI delegation equivalent of a manager plugin's `managementPolicy` method. It allows hosts to introspect the capabilities and preferences of the plugin ahead of time. Note that a positive response from `uiPolicy` is necessary, but not sufficient, to guarantee a UI delegation request will be supported.\n",
    "\n",
    "`populateUI` is where the magic happens. It is this method that will be called to instantiate UI elements and set up a communication channel with the host. A return value of `None` indicates that UI delegation is not supported for the given arguments. "
   ]
  },
  {
   "cell_type": "markdown",
   "id": "c881c5ea55f6349d",
   "metadata": {},
   "source": [
    "Since the above UI delegate plugin won't do anything interesting, let's redefine the `populateUI` method to render a text box."
   ]
  },
  {
   "cell_type": "code",
   "execution_count": 7,
   "id": "4afe2c48a8c30b3",
   "metadata": {
    "ExecuteTime": {
     "end_time": "2024-11-07T16:18:25.513742Z",
     "start_time": "2024-11-07T16:18:25.510736Z"
    }
   },
   "outputs": [],
   "source": [
    "class NotebookUIDelegateInterface(NotebookUIDelegateInterface):\n",
    "    def populateUI(self, uiTraitsData, uiAccess, request, context, hostSession):\n",
    "        def on_value_changed_cb(_some_text):\n",
    "            pass\n",
    "\n",
    "        TextBoxWidget(on_value_changed_cb).attach()\n",
    "\n",
    "        return UIDelegateState()"
   ]
  },
  {
   "cell_type": "markdown",
   "id": "ee368f70f702fcb4",
   "metadata": {},
   "source": [
    "Note that we now return a `UIDelegateState()` object. This will signal to the host that the request was accepted. The `UIDelegateState` class allows information to be communicated back to the host application, and facilitates setting up a communication channel, as we will see shortly. "
   ]
  },
  {
   "cell_type": "markdown",
   "id": "956ffcdce143d857",
   "metadata": {},
   "source": [
    "In order to use this plugin, we need a plugin system to load it. Usually, a host would use the built-in `Hybrid`/`Python`/`CppPluginSystemUIDelegateImplementationFactory`, in exactly the same way as for manager plugins (via a `Hybrid`/`Python`/`CppPluginSystemManagerImplementationFactory`). However, for the purposes of this notebook we'll define a custom plugin system that will simply return an instance of our `NotebookUIDelegateInterface` defined above."
   ]
  },
  {
   "cell_type": "code",
   "execution_count": 8,
   "id": "ec8bf6e7010b1007",
   "metadata": {
    "ExecuteTime": {
     "end_time": "2024-11-07T16:18:25.560530Z",
     "start_time": "2024-11-07T16:18:25.557616Z"
    }
   },
   "outputs": [],
   "source": [
    "from openassetio.ui.hostApi import UIDelegateImplementationFactoryInterface\n",
    "\n",
    "\n",
    "class NotebookPluginSystemUIDelegateFactory(UIDelegateImplementationFactoryInterface):\n",
    "\n",
    "    def identifiers(self):\n",
    "        return [\"org.openassetio.example.notebook\"]\n",
    "\n",
    "    def instantiate(self, identifier):\n",
    "        assert identifier == \"org.openassetio.example.notebook\"\n",
    "        return NotebookUIDelegateInterface()"
   ]
  },
  {
   "cell_type": "markdown",
   "id": "9807107d55728790",
   "metadata": {},
   "source": [
    "Now we have this, let's put on our host application hat, and instantiate the plugin. We'll wrap the UI delegate creation in a function for reuse later."
   ]
  },
  {
   "cell_type": "code",
   "execution_count": 9,
   "id": "269eca8405fde62c",
   "metadata": {
    "ExecuteTime": {
     "end_time": "2024-11-07T16:18:25.606Z",
     "start_time": "2024-11-07T16:18:25.603228Z"
    }
   },
   "outputs": [],
   "source": [
    "from openassetio.ui.hostApi import UIDelegateFactory\n",
    "\n",
    "\n",
    "def make_ui_delegate():\n",
    "    ui_delegate = UIDelegateFactory.createUIDelegateForInterface(\n",
    "        \"org.openassetio.example.notebook\",\n",
    "        host_interface,\n",
    "        NotebookPluginSystemUIDelegateFactory(logger),\n",
    "        logger,\n",
    "    )\n",
    "    # We must be sure to `initialize` with relevant settings. This is\n",
    "    # done automatically if `defaultUIDelegateForInterface()` was used\n",
    "    # instead, using the settings from the `OPENASSETIO_DEFAULT_CONFIG`\n",
    "    # file (same as for manager plugins).\n",
    "    ui_delegate.initialize({})  \n",
    "    return ui_delegate\n",
    "\n",
    "\n",
    "ui_delegate = make_ui_delegate()"
   ]
  },
  {
   "cell_type": "markdown",
   "id": "419de31fa7fbe081",
   "metadata": {},
   "source": [
    "Now let's delegate some UI!"
   ]
  },
  {
   "cell_type": "code",
   "execution_count": 10,
   "id": "d2bcae0019dcb415",
   "metadata": {
    "ExecuteTime": {
     "end_time": "2024-11-07T16:18:25.656856Z",
     "start_time": "2024-11-07T16:18:25.650168Z"
    }
   },
   "outputs": [
    {
     "data": {
      "application/vnd.jupyter.widget-view+json": {
       "model_id": "4f8bd366dec749a9a82530a116f29dee",
       "version_major": 2,
       "version_minor": 0
      },
      "text/plain": [
       "Text(value='', continuous_update=False, placeholder='Enter text...')"
      ]
     },
     "metadata": {},
     "output_type": "display_data"
    }
   ],
   "source": [
    "from openassetio.trait import TraitsData\n",
    "from openassetio.ui.access import UIAccess\n",
    "from openassetio.ui import UIDelegateRequest\n",
    "\n",
    "\n",
    "ui_traits_data = TraitsData()\n",
    "ui_request = UIDelegateRequest()\n",
    "\n",
    "initial_state = ui_delegate.populateUI(ui_traits_data, UIAccess.kRead, ui_request, context)"
   ]
  },
  {
   "cell_type": "markdown",
   "id": "85f749808cf3ac07",
   "metadata": {},
   "source": [
    "Success! Note that the call to the UI delegate is parameterised on UI-specific traits, an access mode, and a `UIDelegateRequest` object. The `UIDelegateRequest` object is the host-side version of the `UIDelegateState` object. It allows information to be communicated from the host application to the UI delegate. Together the `UIDelegateRequest` and `UIDelegateState` objects provide the primary means of back-and-forth communication, as we will see shortly.\n",
    "\n",
    "Clearly the above widget still isn't very useful. For starters, we currently have no way to extract the value that the user inputs into the widget.\n"
   ]
  },
  {
   "cell_type": "markdown",
   "id": "2b5c1aba4b46b1e3",
   "metadata": {},
   "source": [
    "## stateChangedCallback"
   ]
  },
  {
   "cell_type": "markdown",
   "id": "9d61b9f50d50fa04",
   "metadata": {},
   "source": [
    "Since the widget is an opaque black box as far as the host is concerned, we need to ask the plugin to communicate salient information back to the host whenever the plugin feels it is relevant to do so. For this we'll augment our `UIDelegateRequest` instance with a callback.\n",
    "\n",
    "So let's assume a callback is provided and redefine the `populateUI` method to use it.\n",
    "\n",
    "\n"
   ]
  },
  {
   "cell_type": "code",
   "execution_count": 11,
   "id": "90259132467da9d",
   "metadata": {
    "ExecuteTime": {
     "end_time": "2024-11-07T16:18:25.710176Z",
     "start_time": "2024-11-07T16:18:25.707075Z"
    }
   },
   "outputs": [],
   "source": [
    "from openassetio import EntityReference\n",
    "\n",
    "\n",
    "class NotebookUIDelegateInterface(NotebookUIDelegateInterface):\n",
    "    def populateUI(self, uiTraitsData, uiAccess, request, context, hostSession):\n",
    "\n",
    "        current_state = UIDelegateState()\n",
    "\n",
    "        def on_value_changed_cb(some_text):\n",
    "            if request.stateChangedCallback() is None:\n",
    "                return\n",
    "            current_state.setEntityReferences([EntityReference(\"notebook://\" + some_text)])\n",
    "            request.stateChangedCallback()(current_state)\n",
    "\n",
    "        TextBoxWidget(on_value_changed_cb).attach()\n",
    "\n",
    "        return current_state"
   ]
  },
  {
   "cell_type": "markdown",
   "id": "ab17464959e543df",
   "metadata": {},
   "source": [
    "We see that the `UIDelegateRequest` object can carry a `stateChangedCallback`, which must be set to a function of a single parameter, a `UIDelegateState` instance. The UI delegate plugin should fill in as much information as it can in the `UIDelegateState`. We'll examine the other properties of this class later.\n",
    "\n",
    "Let's now make use of this redefined plugin on the host side."
   ]
  },
  {
   "cell_type": "code",
   "execution_count": 12,
   "id": "a0e8d951da41c4ec",
   "metadata": {
    "ExecuteTime": {
     "end_time": "2024-11-07T16:18:25.763286Z",
     "start_time": "2024-11-07T16:18:25.754067Z"
    }
   },
   "outputs": [
    {
     "data": {
      "application/vnd.jupyter.widget-view+json": {
       "model_id": "46c7747e850b42c4aa4a1b66aa890ce3",
       "version_major": 2,
       "version_minor": 0
      },
      "text/plain": [
       "Output()"
      ]
     },
     "metadata": {},
     "output_type": "display_data"
    },
    {
     "data": {
      "application/vnd.jupyter.widget-view+json": {
       "model_id": "87ddd2054cc74a6caede3e25aa875597",
       "version_major": 2,
       "version_minor": 0
      },
      "text/plain": [
       "Text(value='', continuous_update=False, placeholder='Enter text...')"
      ]
     },
     "metadata": {},
     "output_type": "display_data"
    },
    {
     "data": {
      "application/vnd.jupyter.widget-view+json": {
       "model_id": "55db0017a03a4e10951120f2ed7695af",
       "version_major": 2,
       "version_minor": 0
      },
      "text/plain": [
       "Output()"
      ]
     },
     "metadata": {},
     "output_type": "display_data"
    }
   ],
   "source": [
    "def closure():\n",
    "    ui_delegate = make_ui_delegate()  # Must make a new instance since we redefined the class.\n",
    "\n",
    "    instructions = ipywidgets.Output()\n",
    "    entity_refs_output = ipywidgets.Output()\n",
    "\n",
    "    with instructions:\n",
    "        print(\"Type some text and press ENTER\")\n",
    "    display(instructions)\n",
    "\n",
    "    def state_changed_cb(new_state):\n",
    "        entity_refs_output.clear_output()\n",
    "        with entity_refs_output:\n",
    "            print(f\"From UI delegate: {new_state.entityReferences()}\")\n",
    "\n",
    "    ui_request = UIDelegateRequest(stateChangedCallback=state_changed_cb)\n",
    "\n",
    "    _initial_state = ui_delegate.populateUI(ui_traits_data, UIAccess.kRead, ui_request, context)\n",
    "\n",
    "    display(entity_refs_output)\n",
    "\n",
    "\n",
    "closure()"
   ]
  },
  {
   "cell_type": "markdown",
   "id": "24d47087bf0c3384",
   "metadata": {},
   "source": [
    "If viewing this notebook in Jupyter, we can input some text in the box and hit ENTER (or defocus the text box), and see a list of entity references returned from the UI delegate plugin, constructed from the given user input!"
   ]
  },
  {
   "cell_type": "markdown",
   "id": "b4c2bed513dd2719",
   "metadata": {},
   "source": [
    "## nativeData"
   ]
  },
  {
   "cell_type": "markdown",
   "id": "e71257bd550aac63",
   "metadata": {},
   "source": [
    "Typically, a host application will consist of a complex UI hierarchy, and we want to place the UI delegate widgets in a specific location in that hierarchy. So far, our UI delegate is just blindly rendering the widget immediately on calling `populateUI`. \n",
    "\n",
    "For example, the host application may want to retrieve a \"detached\" widget, which the host can then place in the hierarchy itself. Alternatively, the host may have a UI panel that it wishes the plugin to populate. Or perhaps the application uses an immediate-mode UI framework, where the \"widget\" is actually a function that is called every frame...\n",
    "\n",
    "In order to cover the maximum number of use cases, two `nativeData` objects are provided - one in the `UIDelegateRequest` and one in the `UIDelegateState`. These can be any arbitrary object, and it is up to the host application to document its expectations for how these are used.\n"
   ]
  },
  {
   "cell_type": "markdown",
   "id": "afa3a8bffddd54c8",
   "metadata": {},
   "source": [
    "Let's make a slightly more complex host UI and use `nativeData` to get a widget detached from the hierarchy until the host wishes to render it.\n",
    "\n",
    "We'll first need to redefine `populateUI` again"
   ]
  },
  {
   "cell_type": "code",
   "execution_count": 13,
   "id": "475828935335e3fe",
   "metadata": {
    "ExecuteTime": {
     "end_time": "2024-11-07T16:18:25.849063Z",
     "start_time": "2024-11-07T16:18:25.845816Z"
    }
   },
   "outputs": [],
   "source": [
    "class NotebookUIDelegateInterface(NotebookUIDelegateInterface):\n",
    "    def populateUI(self, uiTraitsData, uiAccess, request, context, hostSession):\n",
    "\n",
    "        current_state = UIDelegateState()\n",
    "\n",
    "        def on_value_changed_cb(some_text):\n",
    "            if request.stateChangedCallback() is None:\n",
    "                return\n",
    "            current_state.setEntityReferences([EntityReference(\"notebook://\" + some_text)])\n",
    "            request.stateChangedCallback()(current_state)\n",
    "\n",
    "        widget = TextBoxWidget(on_value_changed_cb)  # No longer calling `.attach()`\n",
    "\n",
    "        current_state.setNativeData(widget)\n",
    "\n",
    "        return current_state"
   ]
  },
  {
   "cell_type": "markdown",
   "id": "117d61f60a479394",
   "metadata": {},
   "source": [
    "Now we can construct a host UI, with the delegated widget inserted in the correct location"
   ]
  },
  {
   "cell_type": "code",
   "execution_count": 14,
   "id": "187b1a17301ab1a",
   "metadata": {
    "ExecuteTime": {
     "end_time": "2024-11-07T16:18:25.915370Z",
     "start_time": "2024-11-07T16:18:25.904955Z"
    }
   },
   "outputs": [
    {
     "data": {
      "application/vnd.jupyter.widget-view+json": {
       "model_id": "3243154b0f21462eadd1b7024b738990",
       "version_major": 2,
       "version_minor": 0
      },
      "text/plain": [
       "Label(value='Type some text and press ENTER')"
      ]
     },
     "metadata": {},
     "output_type": "display_data"
    },
    {
     "data": {
      "application/vnd.jupyter.widget-view+json": {
       "model_id": "b8e1e1374ac34451a1bf56905996bd3e",
       "version_major": 2,
       "version_minor": 0
      },
      "text/plain": [
       "Text(value='', continuous_update=False, placeholder='Enter text...')"
      ]
     },
     "metadata": {},
     "output_type": "display_data"
    },
    {
     "data": {
      "application/vnd.jupyter.widget-view+json": {
       "model_id": "f47e4aeb9b7e49ff92a3627c69c6d7a5",
       "version_major": 2,
       "version_minor": 0
      },
      "text/plain": [
       "Label(value='')"
      ]
     },
     "metadata": {},
     "output_type": "display_data"
    }
   ],
   "source": [
    "def closure():\n",
    "\n",
    "    ui_delegate = make_ui_delegate()\n",
    "\n",
    "    entity_ref_output_label = LabelWidget(\"\")\n",
    "\n",
    "    def state_changed_cb(new_state):\n",
    "        entity_ref_output_label.set_text(f\"From UI delegate: {new_state.entityReferences()}\")\n",
    "\n",
    "    ui_request = UIDelegateRequest(stateChangedCallback=state_changed_cb)\n",
    "\n",
    "    initial_state = ui_delegate.populateUI(ui_traits_data, UIAccess.kRead, ui_request, context)\n",
    "\n",
    "    container = ContainerWidget()\n",
    "    container.append(LabelWidget(\"Type some text and press ENTER\"))\n",
    "    container.append(initial_state.nativeData())\n",
    "    container.append(entity_ref_output_label)\n",
    "    container.attach()\n",
    "\n",
    "\n",
    "closure()"
   ]
  },
  {
   "cell_type": "markdown",
   "id": "34fee37f74c9599a",
   "metadata": {},
   "source": [
    "## UI traits"
   ]
  },
  {
   "cell_type": "markdown",
   "id": "4039db025b361dc4",
   "metadata": {},
   "source": [
    "Now we can request a new \"detached\" widget, to be placed in the UI hierarchy by the host. But what if we want the UI delegate to populate a pre-existing UI element instead? Or, perhaps we want both - we want the UI delegate to populate a container _and_ return the newly created element?\n",
    "\n",
    "To solve this we'll make use of the `nativeData` on the `UIDelegateRequest`, and instruct the UI delegate's behaviour by populating the `uiTraitsData` argument. \n",
    "\n",
    "The `uiTraitsData` holds OpenAssetIO _traits_. Traits are used for various purposes across OpenAssetIO - for defining the qualities and properties of entities and their relationships, for defining management policies, and here, for defining the desired qualities and behaviour of the delegated UI element.\n"
   ]
  },
  {
   "cell_type": "code",
   "execution_count": 15,
   "id": "7f0087d979534be2",
   "metadata": {
    "ExecuteTime": {
     "end_time": "2024-11-07T16:18:25.960105Z",
     "start_time": "2024-11-07T16:18:25.955770Z"
    }
   },
   "outputs": [],
   "source": [
    "from openassetio_mediacreation.traits.ui import DetachedTrait, InPlaceTrait, SingularTrait\n",
    "\n",
    "\n",
    "class NotebookUIDelegateInterface(NotebookUIDelegateInterface):\n",
    "    def populateUI(self, uiTraitsData, uiAccess, request, context, hostSession):\n",
    "\n",
    "        # <===== New code here\n",
    "        if not SingularTrait.isImbuedTo(uiTraitsData):\n",
    "            # We can only supply a single entity reference.\n",
    "            return None\n",
    "        # ===================>\n",
    "\n",
    "        current_state = UIDelegateState()\n",
    "\n",
    "        def on_value_changed_cb(some_text):\n",
    "            if request.stateChangedCallback() is None:\n",
    "                return\n",
    "            current_state.setEntityReferences([EntityReference(\"notebook://\" + some_text)])\n",
    "            request.stateChangedCallback()(current_state)\n",
    "\n",
    "        widget = TextBoxWidget(on_value_changed_cb)\n",
    "\n",
    "        # <===== New code here\n",
    "        if DetachedTrait.isImbuedTo(uiTraitsData):\n",
    "            # Host wants a reference to the new widget.\n",
    "            current_state.setNativeData(widget)\n",
    "\n",
    "        if InPlaceTrait.isImbuedTo(uiTraitsData):\n",
    "            # Host wants a container to be populated.\n",
    "            container = request.nativeData()\n",
    "            container.append(widget)\n",
    "        # ===================>\n",
    "\n",
    "        return current_state"
   ]
  },
  {
   "cell_type": "markdown",
   "id": "6a3cec5076cfb025",
   "metadata": {},
   "source": [
    "The `SingularTrait` indicates that the host only wants or provides a single element, in this case an entity reference. The `InPlaceTrait` and `DetachedTrait` are used above to modify the native behaviour of the UI delegate. By adding more traits we can be even more specific about the kind of UI that we want. \n",
    "\n",
    "So far we can only populate the UI with a single type of widget - an inline entity-providing widget (in this case a simple text box, but it could be something more imaginative). What if we wanted to instead display an asset browser (e.g. to replace a typical File->Open menu dialog)? Again, we can use traits to instruct the UI delegate."
   ]
  },
  {
   "cell_type": "code",
   "execution_count": 16,
   "id": "7e72773082df58f7",
   "metadata": {
    "ExecuteTime": {
     "end_time": "2024-11-07T16:18:25.996339Z",
     "start_time": "2024-11-07T16:18:25.988695Z"
    }
   },
   "outputs": [],
   "source": [
    "from openassetio_mediacreation.traits.ui import EntityProviderTrait, InlineTrait, BrowserTrait\n",
    "\n",
    "\n",
    "class NotebookUIDelegateInterface(NotebookUIDelegateInterface):\n",
    "    def populateUI(self, uiTraitsData, uiAccess, request, context, hostSession):\n",
    "\n",
    "        if not SingularTrait.isImbuedTo(uiTraitsData):\n",
    "            # We can only supply a single entity reference.\n",
    "            return None\n",
    "\n",
    "        current_state = UIDelegateState()\n",
    "\n",
    "        def on_value_changed_cb(some_text):\n",
    "            if request.stateChangedCallback() is None:\n",
    "                return\n",
    "            current_state.setEntityReferences([EntityReference(\"notebook://\" + some_text)])\n",
    "            request.stateChangedCallback()(current_state)\n",
    "\n",
    "        # <===== New code here\n",
    "        ui_trait_set = uiTraitsData.traitSet()\n",
    "\n",
    "        if {EntityProviderTrait.kId, InlineTrait.kId} <= ui_trait_set:\n",
    "            widget = TextBoxWidget(on_value_changed_cb)\n",
    "\n",
    "        elif {EntityProviderTrait.kId, BrowserTrait.kId} <= ui_trait_set:\n",
    "            widget = DropdownWidget(on_value_changed_cb, [\"first/entity\", \"second/entity\"])\n",
    "        else:\n",
    "            # We don't support other kinds of UI.\n",
    "            return None\n",
    "        # ===================>\n",
    "\n",
    "        if DetachedTrait.isImbuedTo(uiTraitsData):\n",
    "            # Host wants a reference to the new widget.\n",
    "            current_state.setNativeData(widget)\n",
    "\n",
    "        if InPlaceTrait.isImbuedTo(uiTraitsData):\n",
    "            # Host wants a container to be populated.\n",
    "            container = request.nativeData()\n",
    "            container.append(widget)\n",
    "\n",
    "        return current_state"
   ]
  },
  {
   "cell_type": "markdown",
   "id": "559c0718dc3f901e",
   "metadata": {},
   "source": [
    "Above, we use a simple dropdown widget as our \"asset browser\", but typically this would be a much more complex UI element. The `EntityProviderTrait` indicates that host wants the UI delegate to provide entity references. The `InlineTrait` indicates that the widget should be compact enough to share its container with other widgets, typically on a single row. The `BrowserTrait` indicates that the widget should guide the user through multiple options.\n",
    "\n",
    "Let's use this new functionality on the host side. For illustration, we'll request a detached widget for the browser, and mutate an existing container in-place for the inline box."
   ]
  },
  {
   "cell_type": "code",
   "execution_count": 17,
   "id": "1af7ffd612b5ea6e",
   "metadata": {
    "ExecuteTime": {
     "end_time": "2024-11-07T16:18:26.070331Z",
     "start_time": "2024-11-07T16:18:26.054341Z"
    }
   },
   "outputs": [
    {
     "data": {
      "application/vnd.jupyter.widget-view+json": {
       "model_id": "3eb185fec3c94adb8e822e28f08b4c68",
       "version_major": 2,
       "version_minor": 0
      },
      "text/plain": [
       "Dropdown(options=('first/entity', 'second/entity'), value='first/entity')"
      ]
     },
     "metadata": {},
     "output_type": "display_data"
    },
    {
     "data": {
      "application/vnd.jupyter.widget-view+json": {
       "model_id": "521be86e1bf646638a2c054b31a0b1d1",
       "version_major": 2,
       "version_minor": 0
      },
      "text/plain": [
       "Label(value='From browser...')"
      ]
     },
     "metadata": {},
     "output_type": "display_data"
    },
    {
     "data": {
      "application/vnd.jupyter.widget-view+json": {
       "model_id": "ad95ffda304f42f88cfabc9f07832ca0",
       "version_major": 2,
       "version_minor": 0
      },
      "text/plain": [
       "Label(value='Type some text and press ENTER')"
      ]
     },
     "metadata": {},
     "output_type": "display_data"
    },
    {
     "data": {
      "application/vnd.jupyter.widget-view+json": {
       "model_id": "487bdd000cc740b79b7402e58989afaa",
       "version_major": 2,
       "version_minor": 0
      },
      "text/plain": [
       "Text(value='', continuous_update=False, placeholder='Enter text...')"
      ]
     },
     "metadata": {},
     "output_type": "display_data"
    },
    {
     "data": {
      "application/vnd.jupyter.widget-view+json": {
       "model_id": "1ceee38254a341d1a375e413b32ab01b",
       "version_major": 2,
       "version_minor": 0
      },
      "text/plain": [
       "Label(value='From inline...')"
      ]
     },
     "metadata": {},
     "output_type": "display_data"
    }
   ],
   "source": [
    "def closure():\n",
    "\n",
    "    ui_delegate = make_ui_delegate()\n",
    "    container = ContainerWidget()\n",
    "\n",
    "    ####################################################################\n",
    "    # First lets display the \"asset browser\".\n",
    "\n",
    "    # UI traits for an entity browser.\n",
    "    ui_traits_data = TraitsData({EntityProviderTrait.kId, SingularTrait.kId, BrowserTrait.kId})\n",
    "    # We'll request a \"detached\" widget for the browser.\n",
    "    DetachedTrait.imbueTo(ui_traits_data)\n",
    "\n",
    "    browser_output_label = LabelWidget(\"From browser...\")\n",
    "\n",
    "    def browser_state_changed_cb(new_state):\n",
    "        browser_output_label.set_text(f\"From browser: {new_state.entityReferences()}\")\n",
    "\n",
    "    ui_request = UIDelegateRequest(stateChangedCallback=browser_state_changed_cb)\n",
    "\n",
    "    initial_browser_state = ui_delegate.populateUI(\n",
    "        ui_traits_data, UIAccess.kRead, ui_request, context\n",
    "    )\n",
    "\n",
    "    # Add the detached widget to the container.\n",
    "    container.append(initial_browser_state.nativeData())\n",
    "    container.append(browser_output_label)\n",
    "\n",
    "    ####################################################################\n",
    "    # Now move on to the inline entity box.\n",
    "\n",
    "    container.append(LabelWidget(\"Type some text and press ENTER\"))\n",
    "\n",
    "    # UI traits for an inline entity box.\n",
    "    ui_traits_data = TraitsData({EntityProviderTrait.kId, SingularTrait.kId, InlineTrait.kId})\n",
    "    # We'll ask the UI delegate to mutate the container to add the\n",
    "    # inline entity box.\n",
    "    InPlaceTrait.imbueTo(ui_traits_data)\n",
    "\n",
    "    inline_entity_output_label = LabelWidget(\"From inline...\")\n",
    "\n",
    "    def inline_entity_state_changed_cb(new_state):\n",
    "        inline_entity_output_label.set_text(f\"From inline: {new_state.entityReferences()}\")\n",
    "\n",
    "    ui_request = UIDelegateRequest(\n",
    "        # Note that due to `InPlaceTrait`, we need to provide the\n",
    "        # container widget within the request, so it can be populated.\n",
    "        nativeData=container,\n",
    "        stateChangedCallback=inline_entity_state_changed_cb,\n",
    "    )\n",
    "\n",
    "    ui_delegate.populateUI(ui_traits_data, UIAccess.kRead, ui_request, context)\n",
    "\n",
    "    # Widget was added to the container by the delegate, so we only need\n",
    "    # to add the host-side elements.\n",
    "    container.append(inline_entity_output_label)\n",
    "    container.attach()\n",
    "\n",
    "\n",
    "closure()"
   ]
  },
  {
   "cell_type": "markdown",
   "id": "4e50a5cf75bf7dcb",
   "metadata": {},
   "source": [
    "## updateRequestCallback"
   ]
  },
  {
   "cell_type": "markdown",
   "id": "334a868e87d7ca3d",
   "metadata": {},
   "source": [
    "A typcial workflow might be to browse for an asset, then populate an inline entity box with the result. The key functionality we need to do this is another communication channel - this time from the host application to the UI delegate. For this we'll make use of the `UIDelegateState` object's `updateRequestCallback`."
   ]
  },
  {
   "cell_type": "code",
   "execution_count": 18,
   "id": "a9e7fa9c3c72ec15",
   "metadata": {
    "ExecuteTime": {
     "end_time": "2024-11-07T16:18:26.155337Z",
     "start_time": "2024-11-07T16:18:26.150017Z"
    }
   },
   "outputs": [],
   "source": [
    "class NotebookUIDelegateInterface(NotebookUIDelegateInterface):\n",
    "    def populateUI(self, uiTraitsData, uiAccess, request, context, hostSession):\n",
    "\n",
    "        if not SingularTrait.isImbuedTo(uiTraitsData):\n",
    "            # We can only supply a single entity reference.\n",
    "            return None\n",
    "\n",
    "        current_state = UIDelegateState()\n",
    "\n",
    "        def on_value_changed_cb(some_text):\n",
    "            if request.stateChangedCallback() is None:\n",
    "                return\n",
    "            current_state.setEntityReferences([EntityReference(\"notebook://\" + some_text)])\n",
    "            request.stateChangedCallback()(current_state)\n",
    "\n",
    "        ui_trait_set = uiTraitsData.traitSet()\n",
    "\n",
    "        if {EntityProviderTrait.kId, InlineTrait.kId} <= ui_trait_set:\n",
    "            widget = TextBoxWidget(on_value_changed_cb)\n",
    "\n",
    "            # <===== New code here\n",
    "            def on_request_updated(new_request):\n",
    "                if new_request is None:\n",
    "                    # None means \"request finished\", i.e. clean up.\n",
    "                    return\n",
    "                entity_refs = new_request.entityReferences()\n",
    "                if entity_refs:\n",
    "                    # Set the text box text to the stringified entity\n",
    "                    # reference, without the \"notebook://\" prefix.\n",
    "                    widget.set_text(entity_refs[0].toString()[len(\"notebook://\") :])\n",
    "\n",
    "            current_state.setUpdateRequestCallback(on_request_updated)\n",
    "            on_request_updated(request)  # Initialise using initial request.\n",
    "            # ===================>\n",
    "\n",
    "        elif {EntityProviderTrait.kId, BrowserTrait.kId} <= ui_trait_set:\n",
    "            widget = DropdownWidget(on_value_changed_cb, [\"first/entity\", \"second/entity\"])\n",
    "\n",
    "        else:\n",
    "            # We don't support other kinds of UI.\n",
    "            return None\n",
    "\n",
    "        if DetachedTrait.isImbuedTo(uiTraitsData):\n",
    "            # Host wants a reference to the new widget.\n",
    "            current_state.setNativeData(widget)\n",
    "\n",
    "        if InPlaceTrait.isImbuedTo(uiTraitsData):\n",
    "            # Host wants a container to be populated.\n",
    "            container = request.nativeData()\n",
    "            container.append(widget)\n",
    "\n",
    "        return current_state"
   ]
  },
  {
   "cell_type": "markdown",
   "id": "3adaec0b5b981110",
   "metadata": {},
   "source": [
    "Note that we must check if the `new_request` is `None`. If so, it means the host is done with the request, i.e. the UI element is or should be destroyed and all callbacks and state are now invalid. The UI delegate should clean up in this case, e.g. disposing of any dangling references.\n",
    "\n",
    "We can now link the two UI elements on the host side. We'll re-order widget creation, and make them both detached so we can assemble them in the container in the correct order."
   ]
  },
  {
   "cell_type": "code",
   "execution_count": 19,
   "id": "14f1954ba0865819",
   "metadata": {
    "ExecuteTime": {
     "end_time": "2024-11-07T16:18:26.212910Z",
     "start_time": "2024-11-07T16:18:26.200842Z"
    }
   },
   "outputs": [
    {
     "data": {
      "application/vnd.jupyter.widget-view+json": {
       "model_id": "a2263c927b9a4e8c8ea8533818a6f2eb",
       "version_major": 2,
       "version_minor": 0
      },
      "text/plain": [
       "Dropdown(options=('first/entity', 'second/entity'), value='first/entity')"
      ]
     },
     "metadata": {},
     "output_type": "display_data"
    },
    {
     "data": {
      "application/vnd.jupyter.widget-view+json": {
       "model_id": "4577cb13ecaf4c7f99d4868ffd989d30",
       "version_major": 2,
       "version_minor": 0
      },
      "text/plain": [
       "Label(value='Choose from above, or type some text and press ENTER')"
      ]
     },
     "metadata": {},
     "output_type": "display_data"
    },
    {
     "data": {
      "application/vnd.jupyter.widget-view+json": {
       "model_id": "ccb9b9fc21d446e5aa1a02964debb442",
       "version_major": 2,
       "version_minor": 0
      },
      "text/plain": [
       "Text(value='default/entity', continuous_update=False, placeholder='Enter text...')"
      ]
     },
     "metadata": {},
     "output_type": "display_data"
    },
    {
     "data": {
      "application/vnd.jupyter.widget-view+json": {
       "model_id": "16063ad3a7704d4a963061b6fa3adc25",
       "version_major": 2,
       "version_minor": 0
      },
      "text/plain": [
       "Label(value='')"
      ]
     },
     "metadata": {},
     "output_type": "display_data"
    }
   ],
   "source": [
    "def closure():\n",
    "    ui_delegate = make_ui_delegate()\n",
    "\n",
    "    # UI for inline entity box.\n",
    "\n",
    "    ui_traits_data = TraitsData(\n",
    "        {EntityProviderTrait.kId, SingularTrait.kId, InlineTrait.kId, DetachedTrait.kId}\n",
    "    )\n",
    "\n",
    "    inline_entity_output_label = LabelWidget(\"\")\n",
    "\n",
    "    def inline_entity_state_changed_cb(new_inline_entity_state):\n",
    "        inline_entity_output_label.set_text(\n",
    "            f\"Result: {new_inline_entity_state.entityReferences()}\"\n",
    "        )\n",
    "\n",
    "    inline_entity_ui_request = UIDelegateRequest(\n",
    "        # Set default initial request state.\n",
    "        entityReferences=[EntityReference(\"notebook://default/entity\")],\n",
    "        stateChangedCallback=inline_entity_state_changed_cb,\n",
    "    )\n",
    "\n",
    "    initial_inline_entity_state = ui_delegate.populateUI(\n",
    "        ui_traits_data, UIAccess.kRead, inline_entity_ui_request, context\n",
    "    )\n",
    "\n",
    "    # UI for an entity browser.\n",
    "\n",
    "    ui_traits_data = TraitsData(\n",
    "        {EntityProviderTrait.kId, SingularTrait.kId, BrowserTrait.kId, DetachedTrait.kId}\n",
    "    )\n",
    "\n",
    "    # When the browser provides a state update, update the request to\n",
    "    # the inline entity box with the entity references from the browser.\n",
    "    def browser_state_changed_cb(new_browser_state):\n",
    "        if initial_inline_entity_state.updateRequestCallback() is None:\n",
    "            return\n",
    "        inline_entity_ui_request.setEntityReferences(new_browser_state.entityReferences())\n",
    "        initial_inline_entity_state.updateRequestCallback()(inline_entity_ui_request)\n",
    "\n",
    "    browser_ui_request = UIDelegateRequest(stateChangedCallback=browser_state_changed_cb)\n",
    "\n",
    "    initial_browser_state = ui_delegate.populateUI(\n",
    "        ui_traits_data, UIAccess.kRead, browser_ui_request, context\n",
    "    )\n",
    "\n",
    "    # Assemble everything into a container and render.\n",
    "\n",
    "    container = ContainerWidget()\n",
    "    # Add the detached widget to the container.\n",
    "    container.append(initial_browser_state.nativeData())\n",
    "    container.append(LabelWidget(\"Choose from above, or type some text and press ENTER\"))\n",
    "    container.append(initial_inline_entity_state.nativeData())\n",
    "    container.append(inline_entity_output_label)\n",
    "    container.attach()\n",
    "\n",
    "\n",
    "closure()"
   ]
  },
  {
   "cell_type": "markdown",
   "id": "9aeb0644ff0ff9a8",
   "metadata": {},
   "source": [
    "We now have two delegated widgets, both a black box as far as the host is concerned, but linked together via the host using the `stateChangedCallback` of the `UIDelegateRequest` and the `updateRequestCallback` of the `UIDelegateState`. \n",
    "\n",
    "Note that we also initialised the `UIDelegateRequest` for the inline entity box with a default entity reference. Both the initial `UIDelegateRequest` provided to `populateUI`, and the initial `UIDelegateState` returned from `populateUI` should be filled in with as much information as available at the time. Then, both the `UIDelegateRequest` and the `UIDelegateState` can be updated dynamically via the `updateRequestCallback` and `stateChangedCallback`, respectively.\n",
    "\n",
    "It is in this way that we set up two unidirectional communication channels between the host and the UI delegate, which together provide asynchronous communication back and forth.\n",
    "\n"
   ]
  },
  {
   "cell_type": "markdown",
   "id": "2c8b7d6e050ddbd8",
   "metadata": {},
   "source": [
    "## entityTraitsDatas"
   ]
  },
  {
   "cell_type": "markdown",
   "id": "e0b72ab2c6804da8",
   "metadata": {},
   "source": [
    "So far we've made use of the `nativeData` and `entityReferences` properties of the `UIDelegateRequest` and `UIDelegateState`. The final property to cover is the `entityTraitsDatas` property of the `UIDelegateRequest` and `UIDelegateState`. This can be used in the `UIDelegateRequest` to provide entity metadata to the UI delegate, for example for use as a filter predicate. The UI delegate can populate the `entityTraitsDatas` of a `UIDelegateState` to communicate entity metadata back to the host, for example to augment the metadata of an entity to be published.\n"
   ]
  },
  {
   "cell_type": "markdown",
   "id": "d4b715fe6545ee4f",
   "metadata": {},
   "source": [
    "Let's turn to a publishing workflow. We will query the UI delegate for a browser for image entities to target, which will return a target entity reference along with some custom metadata that the host doesn't necessarily understand, but which the manager will appreciate when publishing.\n",
    "\n",
    "For simplicity, we'll rewrite the `populateUI` method to only support this use-case. In practice an implementation would support our existing use-cases too, branching as appropriate for the given parameters."
   ]
  },
  {
   "cell_type": "code",
   "execution_count": 20,
   "id": "9343bc410358e147",
   "metadata": {
    "ExecuteTime": {
     "end_time": "2024-11-07T16:18:26.289636Z",
     "start_time": "2024-11-07T16:18:26.281293Z"
    }
   },
   "outputs": [],
   "source": [
    "from openassetio_mediacreation.specifications.application import WorkfileSpecification\n",
    "from openassetio_mediacreation.specifications.twoDimensional import (\n",
    "    BitmapImageResourceSpecification,\n",
    ")\n",
    "from openassetio_mediacreation.traits.ui import MetadataProviderTrait\n",
    "\n",
    "\n",
    "# Our backend database of entities.\n",
    "database = {\n",
    "    \"workfiles\": {\n",
    "        \"project/workfile/first\": {},\n",
    "        \"project/workfile/second\": {},\n",
    "    },\n",
    "    \"plates\": {\n",
    "        \"project/plate/background\": {\"mimeType\": \"image/jpeg\"},\n",
    "        \"project/plate/web\": {\"mimeType\": \"image/gif\"},\n",
    "        \"project/plate/head\": {\"mimeType\": \"image/png\"},\n",
    "    },\n",
    "}\n",
    "\n",
    "\n",
    "class NotebookUIDelegateInterface(NotebookUIDelegateInterface):\n",
    "    def populateUI(self, uiTraitsData, uiAccess, request, context, hostSession):\n",
    "        if uiAccess != UIAccess.kWrite:\n",
    "            # This UI delegate only supports write (publishing)\n",
    "            # use-cases.\n",
    "            return None\n",
    "\n",
    "        ui_trait_set = uiTraitsData.traitSet()\n",
    "\n",
    "        if (\n",
    "            not {EntityProviderTrait.kId, SingularTrait.kId, BrowserTrait.kId, DetachedTrait.kId}\n",
    "            <= ui_trait_set\n",
    "        ):\n",
    "            # This UI delegate only supports providing a detached entity\n",
    "            # browser for a single entity.\n",
    "            return None\n",
    "        entity_traits_datas = request.entityTraitsDatas()\n",
    "        if not entity_traits_datas:\n",
    "            # We require traits to determine what entities should show\n",
    "            # in the browser.\n",
    "            return None\n",
    "\n",
    "        # Determine which entity type the host wants to display.\n",
    "\n",
    "        desired_entity_traits_data = entity_traits_datas[0]\n",
    "        desired_entity_trait_set = desired_entity_traits_data.traitSet()\n",
    "\n",
    "        # Check that the desired trait set is a superset (or equal to) a\n",
    "        # supported trait set.\n",
    "        if WorkfileSpecification.kTraitSet <= desired_entity_trait_set:\n",
    "            entity_type = \"workfiles\"\n",
    "        elif BitmapImageResourceSpecification.kTraitSet <= desired_entity_trait_set:\n",
    "            entity_type = \"plates\"\n",
    "        else:\n",
    "            # We only support either workfiles (aka project files) or\n",
    "            # images.\n",
    "            return None\n",
    "\n",
    "        entity_ids = list(database[entity_type].keys())\n",
    "\n",
    "        if entity_type == \"plates\":\n",
    "            # Further filter by MIME type, if provided.\n",
    "            specification = BitmapImageResourceSpecification(desired_entity_traits_data)\n",
    "            desired_mime_type = specification.locatableContentTrait().getMimeType()\n",
    "            if desired_mime_type is not None:\n",
    "                # We should support comma-separated MIME types, as well\n",
    "                # as wildcards. See LocatableContentTrait for details.\n",
    "                desired_mime_types = desired_mime_type.split(\",\")\n",
    "                entity_ids = [\n",
    "                    entity_id\n",
    "                    for entity_id in entity_ids\n",
    "                    if database[\"plates\"][entity_id][\"mimeType\"] in desired_mime_types\n",
    "                ]\n",
    "\n",
    "        current_state = UIDelegateState()\n",
    "\n",
    "        def on_value_changed_cb(entity_id):\n",
    "            if request.stateChangedCallback() is None:\n",
    "                return\n",
    "            current_state.setEntityReferences(\n",
    "                [EntityReference(\"notebook://\" + entity_id + \"/new\")]\n",
    "            )\n",
    "\n",
    "            # Additional metadata, if the host asked for it.\n",
    "            if MetadataProviderTrait.kId in ui_trait_set:\n",
    "                custom_entity_traits = TraitsData()\n",
    "                custom_entity_traits.setTraitProperty(\"openassetio:example.User\", \"login\", \"Bob\")\n",
    "                current_state.setEntityTraitsDatas([custom_entity_traits])\n",
    "\n",
    "            request.stateChangedCallback()(current_state)\n",
    "\n",
    "        widget = DropdownWidget(on_value_changed_cb, entity_ids)\n",
    "\n",
    "        current_state.setNativeData(widget)\n",
    "\n",
    "        return current_state"
   ]
  },
  {
   "cell_type": "markdown",
   "id": "e01a7653f59c7213",
   "metadata": {},
   "source": [
    "Switching to the host now, let's create an image asset browser, and display any metadata returned by the UI delegate."
   ]
  },
  {
   "cell_type": "code",
   "execution_count": 21,
   "id": "8b4f7ca21d51ecd8",
   "metadata": {
    "ExecuteTime": {
     "end_time": "2024-11-07T16:18:26.340801Z",
     "start_time": "2024-11-07T16:18:26.332616Z"
    }
   },
   "outputs": [
    {
     "data": {
      "application/vnd.jupyter.widget-view+json": {
       "model_id": "c06d98ad07264de7a1934772d4232412",
       "version_major": 2,
       "version_minor": 0
      },
      "text/plain": [
       "Dropdown(options=('project/plate/background', 'project/plate/head'), value='project/plate/background')"
      ]
     },
     "metadata": {},
     "output_type": "display_data"
    },
    {
     "data": {
      "application/vnd.jupyter.widget-view+json": {
       "model_id": "157215842d5d4552bd68fd6528873d96",
       "version_major": 2,
       "version_minor": 0
      },
      "text/plain": [
       "Output()"
      ]
     },
     "metadata": {},
     "output_type": "display_data"
    }
   ],
   "source": [
    "def closure():\n",
    "    ui_delegate = make_ui_delegate()\n",
    "\n",
    "    ui_traits_data = TraitsData(\n",
    "        {\n",
    "            EntityProviderTrait.kId,\n",
    "            MetadataProviderTrait.kId,\n",
    "            SingularTrait.kId,\n",
    "            BrowserTrait.kId,\n",
    "            DetachedTrait.kId,\n",
    "        }\n",
    "    )\n",
    "\n",
    "    image_specification = BitmapImageResourceSpecification.create()\n",
    "    # We'll only support png and jpg images\n",
    "    image_specification.locatableContentTrait().setMimeType(\"image/jpeg,image/png\")\n",
    "\n",
    "    entity_ref_and_traits_output = ipywidgets.Output()\n",
    "\n",
    "    def browser_state_changed_cb(new_browser_state):\n",
    "        result_txt = \"\"\n",
    "        entity_refs = new_browser_state.entityReferences()\n",
    "        if entity_refs:\n",
    "            result_txt += f\"Entity '{entity_refs[0]}'\"\n",
    "            entity_traits = new_browser_state.entityTraitsDatas()\n",
    "            if entity_traits:\n",
    "                result_txt += \" with traits: \"\n",
    "                result_txt += str(entity_traits[0])\n",
    "\n",
    "        entity_ref_and_traits_output.clear_output()\n",
    "        with entity_ref_and_traits_output:\n",
    "            print(result_txt)\n",
    "\n",
    "    browser_ui_request = UIDelegateRequest(\n",
    "        entityTraitsDatas=[image_specification.traitsData()],\n",
    "        stateChangedCallback=browser_state_changed_cb,\n",
    "    )\n",
    "\n",
    "    initial_browser_state = ui_delegate.populateUI(\n",
    "        ui_traits_data, UIAccess.kWrite, browser_ui_request, context\n",
    "    )\n",
    "\n",
    "    initial_browser_state.nativeData().attach()\n",
    "    display(entity_ref_and_traits_output)\n",
    "\n",
    "\n",
    "closure()"
   ]
  },
  {
   "cell_type": "markdown",
   "id": "4de67f5ab67a0c81",
   "metadata": {},
   "source": [
    "Note that our \"asset browser\" (dropdown) only contains image entities, and only those with a supported MIME type. In this case, the additional `TraitsData` could be merged with the entity's traits during publishing, to provide additional (opaque) metadata that the asset management system cares about, but which has no meaning to the host application.\n",
    "\n",
    "There are a couple of subtly introduced features of note here. Firstly, note we're adding `MetadataProviderTrait` (as well as `EntityProviderTrait`). The `MetadataProviderTrait` indicates that the host wants the `entityTraitsDatas` property to be populated by the UI delegate.\n",
    "\n",
    "Secondly, we've changed our access mode from `UIAccess.kRead` to `UIAccess.kWrite`. The access mode is used in much the same way as in manager plugins (e.g. `ResolveAccess` for `resolve()`, `PublishingAccess` for `register()`, etc). The access mode is used to indicate the kind of subsequent operation that the host intends to perform on the result, i.e. whether the provided entity references/traits will be used by the host for reading existing data, or for publishing new data to.  For example, this can be used to determine whether to display an asset browser equivalent of \"File->Open\" (`kRead`) vs. \"File->Save As\" (`kWrite`) dialog.\n",
    "\n"
   ]
  },
  {
   "cell_type": "markdown",
   "id": "6ec63ea79d57fb6d",
   "metadata": {},
   "source": [
    "## uiPolicy"
   ]
  },
  {
   "cell_type": "markdown",
   "id": "fa0ea792995b0d9e",
   "metadata": {},
   "source": [
    "In our previous example, the UI delegate was very selective in the types of UI element that were supported (only a detached entity browser widget for `kWrite` usage). Filling in all the details required for a `populateUI` call might be an expensive operation for a host application, only for it to return `None`. In addition, there may be other sundry metadata that's needed ahead of time, for the host to properly adapt its native UI to the needs of the UI delegate.\n",
    "\n",
    "This is where the `uiPolicy` method comes in. This method mirrors the `managementPolicy` method of manager plugins. We can use it to filter out early which kinds of UI the UI delegate plugin will support, as well as retrieve other policy-specific metadata.\n",
    "\n",
    "Continuing with the publishing browser example, let's implement its `uiPolicy`"
   ]
  },
  {
   "cell_type": "code",
   "execution_count": 22,
   "id": "6cbe4ae3045c2bfc",
   "metadata": {
    "ExecuteTime": {
     "end_time": "2024-11-07T16:18:26.400094Z",
     "start_time": "2024-11-07T16:18:26.395812Z"
    }
   },
   "outputs": [],
   "source": [
    "from openassetio_mediacreation.traits.uiPolicy import ManagedTrait\n",
    "\n",
    "\n",
    "class NotebookUIDelegateInterface(NotebookUIDelegateInterface):\n",
    "    def uiPolicy(self, uiTraits, uiAccess, context, hostSession):\n",
    "        policy = TraitsData()\n",
    "\n",
    "        if uiAccess != UIAccess.kWrite:\n",
    "            return policy\n",
    "\n",
    "        if (\n",
    "            not {EntityProviderTrait.kId, SingularTrait.kId, BrowserTrait.kId, DetachedTrait.kId}\n",
    "            <= uiTraits\n",
    "        ):\n",
    "            return policy\n",
    "\n",
    "        managed_trait = ManagedTrait(policy)\n",
    "        managed_trait.imbue()  # Not strictly necessary -`setExclusive`, below, will do this implicitly.\n",
    "        # We want the host to hide any native UI in favour of delegated\n",
    "        # UI.\n",
    "        managed_trait.setExclusive(True)\n",
    "\n",
    "        return policy"
   ]
  },
  {
   "cell_type": "markdown",
   "id": "21935b9ee5edfb10",
   "metadata": {},
   "source": [
    "The `uiPolicy` method should always return a `TraitsData`. The host can then check if the `ManagedTrait` is imbued, in order to determine whether a `populateUI` query may succeed. \n",
    "\n",
    "The `get`/`setExclusive` property on the `ManagedTrait` provides additional metadata, instructing the host to hide its native alternative to the delegated UI. For example, the host could display a tabbed browser, one tab for files and one (delegated) for assets. If the exclusive property is true, then the files tab should be hidden.\n",
    "\n",
    "Other policy metadata may be provided. For example the `DisplayNameTrait` may be imbued with a name for the UI element, to be used as a tab title.\n",
    "\n",
    "Note that one condition `populateUI` checks for is not replicated in `uiPolicy` - the `entityTraitsDatas` trait set check. This illustrates why it is not sufficient to assume `populateUI` will always succeed, based solely on the `uiPolicy`. There may be cases, based on a more fine-grained analysis, that `populateUI` is not supported for a given set of arguments.\n",
    "\n",
    "For completeness, let's see how this is used on the host side."
   ]
  },
  {
   "cell_type": "code",
   "execution_count": 23,
   "id": "e2296868a306e81d",
   "metadata": {
    "ExecuteTime": {
     "end_time": "2024-11-07T16:18:26.455541Z",
     "start_time": "2024-11-07T16:18:26.451509Z"
    }
   },
   "outputs": [
    {
     "name": "stdout",
     "output_type": "stream",
     "text": [
      "False\n",
      "None\n",
      "False\n",
      "None\n",
      "True\n",
      "True\n"
     ]
    }
   ],
   "source": [
    "ui_delegate = make_ui_delegate()\n",
    "\n",
    "detached_entity_browser_for_read_policy = ui_delegate.uiPolicy(\n",
    "    {EntityProviderTrait.kId, SingularTrait.kId, BrowserTrait.kId, DetachedTrait.kId},\n",
    "    UIAccess.kRead,\n",
    "    context,\n",
    ")\n",
    "\n",
    "inplace_entity_browser_for_publish_policy = ui_delegate.uiPolicy(\n",
    "    {EntityProviderTrait.kId, SingularTrait.kId, BrowserTrait.kId, InPlaceTrait.kId},\n",
    "    UIAccess.kWrite,\n",
    "    context,\n",
    ")\n",
    "\n",
    "detached_entity_browser_for_publish_policy = ui_delegate.uiPolicy(\n",
    "    {EntityProviderTrait.kId, SingularTrait.kId, BrowserTrait.kId, DetachedTrait.kId},\n",
    "    UIAccess.kWrite,\n",
    "    context,\n",
    ")\n",
    "\n",
    "print(ManagedTrait(detached_entity_browser_for_read_policy).isImbued())\n",
    "print(ManagedTrait(detached_entity_browser_for_read_policy).getExclusive())\n",
    "print(ManagedTrait(inplace_entity_browser_for_publish_policy).isImbued())\n",
    "print(ManagedTrait(inplace_entity_browser_for_publish_policy).getExclusive())\n",
    "print(ManagedTrait(detached_entity_browser_for_publish_policy).isImbued())\n",
    "print(ManagedTrait(detached_entity_browser_for_publish_policy).getExclusive())"
   ]
  },
  {
   "cell_type": "markdown",
   "id": "41ea27ab330f4190",
   "metadata": {},
   "source": [
    "We also note that both `uiPolicy` and `populateUI` are parametrised by additional arguments - `context` and `hostSession`. These too can be introspected to determine appropriate behaviour and support, in a similar way to manager plugins. For example, the `context.locale` property can be examined to determine broader traits of the current logical process, and the `hostSession.host().identifier()` could be used to branch based on the specific host application that the plugin is loaded into."
   ]
  },
  {
   "cell_type": "markdown",
   "id": "fd070ade1f0727a2",
   "metadata": {},
   "source": [
    "## Disposing of UI elements"
   ]
  },
  {
   "cell_type": "markdown",
   "id": "20815a8e138b2d50",
   "metadata": {},
   "source": [
    "So far we've assumed that UI elements live forever. However, it is common for UI elements to be destroyed and re-created, e.g. for one-off dialogs. If a UI delegate holds on to state that outlives the UI element, then we run the risk of memory leaks, or worse, fatal errors when the host disposes of a UI element but does not dispose of the UI delegate's connection to it. \n",
    "\n",
    "It may be that all references are rooted in the UI element, so that when that is destroyed, so is all dangling state (e.g. in callback closures). Or it may be that the host application and its UI framework has a way to notify listeners that a UI element is defunct, and this native mechanism can be used to ensure proper cleanup. \n",
    "\n",
    "However, we cannot rely on these assumptions. OpenAssetIO UI delegates provide two mechanisms to handle this case. \n",
    "\n",
    "* When a single delegated UI element is disposed, the host can pass `None` (or `nullptr` in C++) to the `updateRequestCallback`, signalling that the request is finished and the UI delegate should clear all its references and destroy any internal state related to the particular UI element.\n",
    "\n",
    "* When the UI delegate as a whole is no longer valid, along with all delegated UI elements associated with it, then the `close()` method can be called. This method is called automatically on destruction of the `UIDelegate` class, but it can also be called by hosts directly in order to reset and reuse a UI delegate. Host applications should call `close()` (or destroy the UI delegate) whenever they are wholesale destroying all UI associated with the UI delegate.\n",
    "\n",
    "The particular responsibilities of the host and the UI delegate with respect to clean-up (e.g. which is responsible for destroying the UI element itself) will vary between applications and their UI frameworks, and any ambiguities must be documented by the host application.\n"
   ]
  },
  {
   "cell_type": "markdown",
   "id": "5ed97edce23b75c",
   "metadata": {},
   "source": [
    "Let's see this in action in a plugin that provides an inline entity reference box. We'll need to make the plugin stateful in order to track active widget states, so (rather contrived) we'll create a closure around the widget request, and persist it in a container. "
   ]
  },
  {
   "cell_type": "code",
   "execution_count": 24,
   "id": "35827d819b0b0164",
   "metadata": {
    "ExecuteTime": {
     "end_time": "2024-11-07T16:18:26.519153Z",
     "start_time": "2024-11-07T16:18:26.512265Z"
    }
   },
   "outputs": [],
   "source": [
    "class NotebookUIDelegateInterface(NotebookUIDelegateInterface):\n",
    "    def __init__(self):\n",
    "        super().__init__()\n",
    "        self.__memos = set()\n",
    "\n",
    "    # <===== Important code here\n",
    "    def close(self, hostSession):\n",
    "        self.__memos.clear()\n",
    "\n",
    "    # ==========================>\n",
    "\n",
    "    def populateUI(self, uiTraitsData, uiAccess, request, context, hostSession):\n",
    "        if uiAccess != UIAccess.kRead:\n",
    "            return None\n",
    "        if (\n",
    "            not {EntityProviderTrait.kId, SingularTrait.kId, InlineTrait.kId, DetachedTrait.kId}\n",
    "            <= uiTraitsData.traitSet()\n",
    "        ):\n",
    "            return None\n",
    "\n",
    "        current_state = UIDelegateState()\n",
    "\n",
    "        def memo():\n",
    "\n",
    "            def on_value_changed_cb(some_text):\n",
    "                if request.stateChangedCallback() is None:\n",
    "                    return\n",
    "                current_state.setEntityReferences([EntityReference(\"notebook://\" + some_text)])\n",
    "                request.stateChangedCallback(current_state)\n",
    "\n",
    "            def on_request_updated(new_request):\n",
    "                # <===== Important code here\n",
    "                if new_request is None:\n",
    "                    self.__memos.remove(memo)\n",
    "                    return\n",
    "                # =========================>\n",
    "                current_state.setEntityReferences(new_request.entityReferences())\n",
    "\n",
    "            widget = TextBoxWidget(on_value_change_cb=on_value_changed_cb)\n",
    "            current_state.setNativeData(widget)\n",
    "\n",
    "            current_state.setUpdateRequestCallback(on_request_updated)\n",
    "\n",
    "            self.__memos.add(memo)\n",
    "            return current_state\n",
    "\n",
    "        return memo()"
   ]
  },
  {
   "cell_type": "markdown",
   "id": "a1b4afdfb06e9b64",
   "metadata": {},
   "source": [
    "First lets see what happens when we naively clean up on the host side, but don't clean up the UI delegate"
   ]
  },
  {
   "cell_type": "code",
   "execution_count": 25,
   "id": "658999ef85734ac9",
   "metadata": {
    "ExecuteTime": {
     "end_time": "2024-11-07T16:18:26.603124Z",
     "start_time": "2024-11-07T16:18:26.567178Z"
    }
   },
   "outputs": [
    {
     "name": "stdout",
     "output_type": "stream",
     "text": [
      "Request cleaned up? False\n",
      "State cleaned up? False\n"
     ]
    }
   ],
   "source": [
    "import weakref\n",
    "import gc\n",
    "\n",
    "ui_traits_data = TraitsData(\n",
    "    {EntityProviderTrait.kId, SingularTrait.kId, InlineTrait.kId, DetachedTrait.kId}\n",
    ")\n",
    "\n",
    "\n",
    "def closure():\n",
    "\n",
    "    ui_delegate = make_ui_delegate()\n",
    "    ui_request = UIDelegateRequest(stateChangedCallback=lambda state: None)\n",
    "    ui_state = ui_delegate.populateUI(ui_traits_data, UIAccess.kRead, ui_request, context)\n",
    "    weakref_to_ui_request = weakref.ref(ui_request)\n",
    "    weakref_to_ui_state = weakref.ref(ui_state)\n",
    "\n",
    "    del ui_request\n",
    "    del ui_state\n",
    "    gc.collect()\n",
    "\n",
    "    print(f\"Request cleaned up? {weakref_to_ui_request() is None}\")\n",
    "    print(f\"State cleaned up? {weakref_to_ui_state() is None}\")\n",
    "\n",
    "\n",
    "closure()"
   ]
  },
  {
   "cell_type": "markdown",
   "id": "bb5638b82ee54e29",
   "metadata": {},
   "source": [
    "We see that both the UI request and state are leaked. So let's explicitly clean up the references by passing `None` to the `updateRequestCallback`."
   ]
  },
  {
   "cell_type": "code",
   "execution_count": 26,
   "id": "3cd7bbda3762f4f4",
   "metadata": {
    "ExecuteTime": {
     "end_time": "2024-11-07T16:18:26.668465Z",
     "start_time": "2024-11-07T16:18:26.631788Z"
    }
   },
   "outputs": [
    {
     "name": "stdout",
     "output_type": "stream",
     "text": [
      "Request cleaned up? True\n",
      "State cleaned up? True\n"
     ]
    }
   ],
   "source": [
    "def closure():\n",
    "    ui_delegate = make_ui_delegate()\n",
    "    ui_request = UIDelegateRequest(stateChangedCallback=lambda state: None)\n",
    "    ui_state = ui_delegate.populateUI(ui_traits_data, UIAccess.kRead, ui_request, context)\n",
    "    weakref_to_ui_request = weakref.ref(ui_request)\n",
    "    weakref_to_ui_state = weakref.ref(ui_state)\n",
    "\n",
    "    ui_state.updateRequestCallback()(None)\n",
    "\n",
    "    del ui_request\n",
    "    del ui_state\n",
    "    gc.collect()\n",
    "\n",
    "    print(f\"Request cleaned up? {weakref_to_ui_request() is None}\")\n",
    "    print(f\"State cleaned up? {weakref_to_ui_state() is None}\")\n",
    "\n",
    "\n",
    "closure()"
   ]
  },
  {
   "cell_type": "markdown",
   "id": "b26729f787b1447",
   "metadata": {},
   "source": [
    "This did the job. However, if there are many UI elements associated with a UI delegate, finding them all and calling the `updateRequestCallback` could be arduous. \n",
    "\n",
    "To clean up everything in one go we can call the `close()` method of the UI delegate associated with the widget(s)."
   ]
  },
  {
   "cell_type": "code",
   "execution_count": 27,
   "id": "afebf83da2fd11d8",
   "metadata": {
    "ExecuteTime": {
     "end_time": "2024-11-07T16:18:26.763185Z",
     "start_time": "2024-11-07T16:18:26.725897Z"
    }
   },
   "outputs": [
    {
     "name": "stdout",
     "output_type": "stream",
     "text": [
      "Request cleaned up? True\n",
      "State cleaned up? True\n"
     ]
    }
   ],
   "source": [
    "def closure():\n",
    "    ui_delegate = make_ui_delegate()\n",
    "    ui_request = UIDelegateRequest(stateChangedCallback=lambda state: None)\n",
    "    ui_state = ui_delegate.populateUI(ui_traits_data, UIAccess.kRead, ui_request, context)\n",
    "    weakref_to_ui_request = weakref.ref(ui_request)\n",
    "    weakref_to_ui_state = weakref.ref(ui_state)\n",
    "\n",
    "    ui_delegate.close()\n",
    "\n",
    "    del ui_request\n",
    "    del ui_state\n",
    "    gc.collect()\n",
    "\n",
    "    print(f\"Request cleaned up? {weakref_to_ui_request() is None}\")\n",
    "    print(f\"State cleaned up? {weakref_to_ui_state() is None}\")\n",
    "\n",
    "\n",
    "closure()"
   ]
  },
  {
   "cell_type": "markdown",
   "id": "32a67cdb6f780ee2",
   "metadata": {},
   "source": [
    "The `close()` method is also called automatically on destruction of the UI delegate instance. So equivalently to the above, we can destroy the UI delegate itself. "
   ]
  },
  {
   "cell_type": "code",
   "execution_count": 28,
   "id": "7b1e8acb88bb82dd",
   "metadata": {
    "ExecuteTime": {
     "end_time": "2024-11-07T16:18:26.878674Z",
     "start_time": "2024-11-07T16:18:26.846978Z"
    }
   },
   "outputs": [
    {
     "name": "stdout",
     "output_type": "stream",
     "text": [
      "Request cleaned up? True\n",
      "State cleaned up? True\n"
     ]
    }
   ],
   "source": [
    "def closure():\n",
    "    ui_delegate = make_ui_delegate()\n",
    "    ui_request = UIDelegateRequest(stateChangedCallback=lambda state: None)\n",
    "    ui_state = ui_delegate.populateUI(ui_traits_data, UIAccess.kRead, ui_request, context)\n",
    "    weakref_to_ui_request = weakref.ref(ui_request)\n",
    "    weakref_to_ui_state = weakref.ref(ui_state)\n",
    "\n",
    "    del ui_delegate\n",
    "\n",
    "    del ui_request\n",
    "    del ui_state\n",
    "    gc.collect()\n",
    "\n",
    "    print(f\"Request cleaned up? {weakref_to_ui_request() is None}\")\n",
    "    print(f\"State cleaned up? {weakref_to_ui_state() is None}\")\n",
    "\n",
    "\n",
    "closure()"
   ]
  },
  {
   "cell_type": "markdown",
   "id": "12c9702391202d5f",
   "metadata": {},
   "source": [
    "## UIDelegateRequestInterface / UIDelegateStateInterface"
   ]
  },
  {
   "cell_type": "markdown",
   "id": "591da0ad16bdd20a",
   "metadata": {},
   "source": [
    "The examples presented so far made use of `UIDelegateRequest` and `UIDelegateState`. In fact, these are convenience classes that implement the `UIDelegateRequestInterface` and `UIDelegateStateInterface` abstract base class interfaces, respectively. The `populateUI` method, and `updateRequestCallback` and `stateChangedCallback` callbacks, expect implementations of these interfaces. This allows full customisation at call-time of how properties are retrieved.\n",
    "\n",
    "Let's make use of a custom state object, revisiting a previous example of an asset browser coupled to an inline entity text box.\n",
    "\n"
   ]
  },
  {
   "cell_type": "code",
   "execution_count": 29,
   "id": "3141356387da13cf",
   "metadata": {
    "ExecuteTime": {
     "end_time": "2024-11-07T16:18:26.928255Z",
     "start_time": "2024-11-07T16:18:26.922638Z"
    }
   },
   "outputs": [],
   "source": [
    "from openassetio.ui import UIDelegateStateInterface\n",
    "\n",
    "\n",
    "class InlineEntityState(UIDelegateStateInterface):\n",
    "    def __init__(self, state_changed_cb):\n",
    "        UIDelegateStateInterface.__init__(self)\n",
    "        self.__state_changed_cb = state_changed_cb\n",
    "        self.__widget = TextBoxWidget(self.__on_widget_value_changed_cb)\n",
    "\n",
    "    def nativeData(self):\n",
    "        return self.__widget\n",
    "\n",
    "    def updateRequestCallback(self):\n",
    "        return self.__on_request_updated_cb\n",
    "\n",
    "    def entityReferences(self):\n",
    "        return [EntityReference(\"notebook://\" + self.__widget.get_text())]\n",
    "\n",
    "    def entityTraitsDatas(self):\n",
    "        return []\n",
    "\n",
    "    def __on_request_updated_cb(self, new_request):\n",
    "        if new_request is None:\n",
    "            return\n",
    "        entity_refs = new_request.entityReferences()\n",
    "        if entity_refs:\n",
    "            self.__widget.set_text(entity_refs[0].toString()[len(\"notebook://\") :])\n",
    "\n",
    "    def __on_widget_value_changed_cb(self, _some_text):\n",
    "        if self.__state_changed_cb is None:\n",
    "            return\n",
    "        self.__state_changed_cb(self)\n",
    "\n",
    "\n",
    "class NotebookUIDelegateInterface(NotebookUIDelegateInterface):\n",
    "    def populateUI(self, uiTraitsData, uiAccess, request, context, hostSession):\n",
    "\n",
    "        ui_trait_set = uiTraitsData.traitSet()\n",
    "\n",
    "        if not {DetachedTrait.kId, SingularTrait.kId, EntityProviderTrait.kId} < ui_trait_set:\n",
    "            return None\n",
    "\n",
    "        if InlineTrait.kId in ui_trait_set:\n",
    "\n",
    "            current_state = InlineEntityState(request.stateChangedCallback())\n",
    "\n",
    "        elif BrowserTrait.kId in ui_trait_set:\n",
    "            current_state = UIDelegateState()\n",
    "\n",
    "            def on_value_changed_cb(some_text):\n",
    "                if request.stateChangedCallback() is None:\n",
    "                    return\n",
    "                current_state.setEntityReferences([EntityReference(\"notebook://\" + some_text)])\n",
    "                request.stateChangedCallback()(current_state)\n",
    "\n",
    "            widget = DropdownWidget(on_value_changed_cb, [\"first/entity\", \"second/entity\"])\n",
    "\n",
    "            current_state.setNativeData(widget)\n",
    "        else:\n",
    "            # We don't support other kinds of UI.\n",
    "            return None\n",
    "\n",
    "        return current_state"
   ]
  },
  {
   "cell_type": "markdown",
   "id": "ac15ae6eabff7a0",
   "metadata": {},
   "source": [
    "Above, we use a custom state object for the inline entity widget, and continue to use the convenience `UIDelegateState` for the asset browser.\n",
    "\n",
    "Now we can make use of this, transparently, on the host side (note the host-side code is duplicated from the previous similar example)."
   ]
  },
  {
   "cell_type": "code",
   "execution_count": 30,
   "id": "f4a52fc4c774fd20",
   "metadata": {
    "ExecuteTime": {
     "end_time": "2024-11-07T16:18:27.000406Z",
     "start_time": "2024-11-07T16:18:26.981837Z"
    }
   },
   "outputs": [
    {
     "data": {
      "application/vnd.jupyter.widget-view+json": {
       "model_id": "733dcbbd9015471a86c74e83494d5a4e",
       "version_major": 2,
       "version_minor": 0
      },
      "text/plain": [
       "Dropdown(options=('first/entity', 'second/entity'), value='first/entity')"
      ]
     },
     "metadata": {},
     "output_type": "display_data"
    },
    {
     "data": {
      "application/vnd.jupyter.widget-view+json": {
       "model_id": "8e3b5e09972e4db4bfebffdea3b392da",
       "version_major": 2,
       "version_minor": 0
      },
      "text/plain": [
       "Label(value='Choose from above, or type some text and press ENTER')"
      ]
     },
     "metadata": {},
     "output_type": "display_data"
    },
    {
     "data": {
      "application/vnd.jupyter.widget-view+json": {
       "model_id": "57147b70a9d841b4b9328116af2dd38f",
       "version_major": 2,
       "version_minor": 0
      },
      "text/plain": [
       "Text(value='', continuous_update=False, placeholder='Enter text...')"
      ]
     },
     "metadata": {},
     "output_type": "display_data"
    },
    {
     "data": {
      "application/vnd.jupyter.widget-view+json": {
       "model_id": "706059b254704209b7a737e8a929a1e0",
       "version_major": 2,
       "version_minor": 0
      },
      "text/plain": [
       "Label(value='')"
      ]
     },
     "metadata": {},
     "output_type": "display_data"
    }
   ],
   "source": [
    "def closure():\n",
    "    ui_delegate = make_ui_delegate()\n",
    "\n",
    "    # UI for inline entity box.\n",
    "\n",
    "    ui_traits_data = TraitsData(\n",
    "        {EntityProviderTrait.kId, SingularTrait.kId, InlineTrait.kId, DetachedTrait.kId}\n",
    "    )\n",
    "\n",
    "    inline_entity_output_label = LabelWidget(\"\")\n",
    "\n",
    "    def inline_entity_state_changed_cb(new_inline_entity_state):\n",
    "        inline_entity_output_label.set_text(\n",
    "            f\"Result: {new_inline_entity_state.entityReferences()}\"\n",
    "        )\n",
    "\n",
    "    inline_entity_ui_request = UIDelegateRequest(\n",
    "        # Set default initial request state.\n",
    "        entityReferences=[EntityReference(\"notebook://default/entity\")],\n",
    "        stateChangedCallback=inline_entity_state_changed_cb,\n",
    "    )\n",
    "\n",
    "    initial_inline_entity_state = ui_delegate.populateUI(\n",
    "        ui_traits_data, UIAccess.kRead, inline_entity_ui_request, context\n",
    "    )\n",
    "\n",
    "    # UI for an entity browser.\n",
    "\n",
    "    ui_traits_data = TraitsData(\n",
    "        {EntityProviderTrait.kId, SingularTrait.kId, BrowserTrait.kId, DetachedTrait.kId}\n",
    "    )\n",
    "\n",
    "    # When the browser provides a state update, update the request to the\n",
    "    # inline entity box with the entity references from the browser.\n",
    "    def browser_state_changed_cb(new_browser_state):\n",
    "        if initial_inline_entity_state.updateRequestCallback() is None:\n",
    "            return\n",
    "        inline_entity_ui_request.setEntityReferences(new_browser_state.entityReferences())\n",
    "        initial_inline_entity_state.updateRequestCallback()(inline_entity_ui_request)\n",
    "\n",
    "    browser_ui_request = UIDelegateRequest(stateChangedCallback=browser_state_changed_cb)\n",
    "\n",
    "    initial_browser_state = ui_delegate.populateUI(\n",
    "        ui_traits_data, UIAccess.kRead, browser_ui_request, context\n",
    "    )\n",
    "\n",
    "    # Assemble everything into a container and render.\n",
    "\n",
    "    container = ContainerWidget()\n",
    "    # Add the detached widget to the container.\n",
    "    container.append(initial_browser_state.nativeData())\n",
    "    container.append(LabelWidget(\"Choose from above, or type some text and press ENTER\"))\n",
    "    container.append(initial_inline_entity_state.nativeData())\n",
    "    container.append(inline_entity_output_label)\n",
    "    container.attach()\n",
    "\n",
    "\n",
    "closure()"
   ]
  },
  {
   "cell_type": "markdown",
   "id": "97ac193228f7ea9f",
   "metadata": {},
   "source": [
    "## Sharing data between manager and UI delegate plugins"
   ]
  },
  {
   "cell_type": "markdown",
   "id": "92b582dfa3778cb7",
   "metadata": {},
   "source": [
    "The data used by the UI delegates in the examples above (for example, the entities in the \"asset browser\" dropdown) was all hardcoded. In reality, UI delegate plugins will usually need to consult some external source of information. It is up to the plugin how this data is retrieved. Typically, though, the UI delegate plugin may wish to (re)use functionality available in the corresponding manager plugin. There is no direct link between the `UIDelegateInterface` instance and the `ManagerInterface` instance in the API. However, there _is_ a link via a `Context` object, constructed by the manager plugin, and passed along with every call to the `populateUI` method (for example).\n",
    "\n",
    "The `ManagerInterface` has an opportunity to furnish a `Context` with an arbitrary `managerState` object on construction, which can then be accessed by the UI delegate plugin."
   ]
  },
  {
   "cell_type": "markdown",
   "id": "76aa6edcd8090088",
   "metadata": {},
   "source": [
    "To see how this might work, we'll create an entity browser (dropdown) with data populated from state communicated via the `Context`.\n",
    "\n",
    "First we'll need to define a state object that inherits from `ManagerStateBase` (this is crucial, since it allows transport of Python state through the C++ middleware). Then we'll need to implement the required methods in the manager plugin, by augmenting our `NotebookManagerInterface`, to make use of this state object."
   ]
  },
  {
   "cell_type": "code",
   "execution_count": 31,
   "id": "43eb45d9a0a6766c",
   "metadata": {
    "ExecuteTime": {
     "end_time": "2024-11-07T16:18:27.071507Z",
     "start_time": "2024-11-07T16:18:27.067444Z"
    }
   },
   "outputs": [],
   "source": [
    "from openassetio.managerApi import ManagerStateBase\n",
    "\n",
    "\n",
    "# The backend database.\n",
    "backend_database = [\"first/entity\", \"second/entity\", \"third/entity\"]\n",
    "\n",
    "\n",
    "class NotebookManagerState(ManagerStateBase):\n",
    "\n",
    "    def __init__(self, database):\n",
    "        ManagerStateBase.__init__(self)\n",
    "        self.database = database\n",
    "\n",
    "\n",
    "class NotebookManagerInterface(NotebookManagerInterface):\n",
    "    def hasCapability(self, capability):\n",
    "        \"\"\"\n",
    "        Context won't be constructed with managerState unless we\n",
    "        advertise that we're capable of providing it.\n",
    "        \"\"\"\n",
    "        return (\n",
    "            super().hasCapability(capability)\n",
    "            or capability == ManagerInterface.Capability.kStatefulContexts\n",
    "        )\n",
    "\n",
    "    def createState(self, hostSession):\n",
    "        \"\"\"\n",
    "        This will be called whenever the host creates a Context object\n",
    "        and the result stored on Context.managerState.\n",
    "        \"\"\"\n",
    "        return NotebookManagerState(backend_database)\n",
    "\n",
    "    def createChildState(self, parentState, hostSession):\n",
    "        \"\"\"\n",
    "        This will be called whenever the host creates a child Context\n",
    "        object, used to subgroup together logical units of work.\n",
    "\n",
    "        We re-use the same database from the parent\n",
    "        \"\"\"\n",
    "        return NotebookManagerState(parentState.database)"
   ]
  },
  {
   "cell_type": "markdown",
   "id": "e3edbb8fd7b870c9",
   "metadata": {},
   "source": [
    "Now we'll assume the `context` provided to the UI delegate has this state available"
   ]
  },
  {
   "cell_type": "code",
   "execution_count": 32,
   "id": "eed50e182d0a2cfc",
   "metadata": {
    "ExecuteTime": {
     "end_time": "2024-11-07T16:18:27.100753Z",
     "start_time": "2024-11-07T16:18:27.097037Z"
    }
   },
   "outputs": [],
   "source": [
    "class NotebookUIDelegateInterface(NotebookUIDelegateInterface):\n",
    "    def populateUI(self, uiTraitsData, uiAccess, request, context, hostSession):\n",
    "\n",
    "        if (\n",
    "            not {DetachedTrait.kId, SingularTrait.kId, EntityProviderTrait.kId, BrowserTrait.kId}\n",
    "            <= uiTraitsData.traitSet()\n",
    "        ):\n",
    "            return None\n",
    "\n",
    "        current_state = UIDelegateState()\n",
    "\n",
    "        def on_value_changed_cb(some_text):\n",
    "            if request.stateChangedCallback() is None:\n",
    "                return\n",
    "            current_state.setEntityReferences([EntityReference(\"notebook://\" + some_text)])\n",
    "            request.stateChangedCallback()(current_state)\n",
    "\n",
    "        widget = DropdownWidget(\n",
    "            on_value_changed_cb,\n",
    "            # <===== Important code here\n",
    "            context.managerState.database,\n",
    "            # =========================>\n",
    "        )\n",
    "\n",
    "        current_state.setNativeData(widget)\n",
    "\n",
    "        return current_state"
   ]
  },
  {
   "cell_type": "markdown",
   "id": "aae60c9d664b3375",
   "metadata": {},
   "source": [
    "Now on the host application side, we'll need to load our updated manager and UI delegate plugins, get a `Context` from the manager, and pass it in to the UI delegate's `populateUI` method."
   ]
  },
  {
   "cell_type": "code",
   "execution_count": 33,
   "id": "259a8f82cb9804f",
   "metadata": {
    "ExecuteTime": {
     "end_time": "2024-11-07T16:18:27.222121Z",
     "start_time": "2024-11-07T16:18:27.211931Z"
    }
   },
   "outputs": [
    {
     "data": {
      "application/vnd.jupyter.widget-view+json": {
       "model_id": "08b292044c1b4b0b9a07dba2e6dcfcce",
       "version_major": 2,
       "version_minor": 0
      },
      "text/plain": [
       "Dropdown(options=('first/entity', 'second/entity', 'third/entity'), value='first/entity')"
      ]
     },
     "metadata": {},
     "output_type": "display_data"
    },
    {
     "data": {
      "application/vnd.jupyter.widget-view+json": {
       "model_id": "298177c21fd149f09d05066a7d993be7",
       "version_major": 2,
       "version_minor": 0
      },
      "text/plain": [
       "Label(value='From browser...')"
      ]
     },
     "metadata": {},
     "output_type": "display_data"
    }
   ],
   "source": [
    "def closure():\n",
    "    manager = make_manager()\n",
    "    # Context now contains a custom `managerState`.\n",
    "    context = manager.createContext()\n",
    "\n",
    "    ui_delegate = make_ui_delegate()\n",
    "\n",
    "    browser_output = LabelWidget(\"From browser...\")\n",
    "\n",
    "    def state_changed_cb(new_state):\n",
    "        browser_output.set_text(f\"From browser: {new_state.entityReferences()}\")\n",
    "\n",
    "    ui_traits_data = TraitsData(\n",
    "        {EntityProviderTrait.kId, SingularTrait.kId, BrowserTrait.kId, DetachedTrait.kId}\n",
    "    )\n",
    "    ui_request = UIDelegateRequest(stateChangedCallback=state_changed_cb)\n",
    "\n",
    "    initial_browser_state = ui_delegate.populateUI(\n",
    "        ui_traits_data, UIAccess.kRead, ui_request, context\n",
    "    )\n",
    "\n",
    "    initial_browser_state.nativeData().attach()\n",
    "    browser_output.attach()\n",
    "\n",
    "\n",
    "closure()"
   ]
  },
  {
   "cell_type": "markdown",
   "id": "2bfd9802e8692863",
   "metadata": {},
   "source": [
    "We've successfully communicated state from the manager plugin to the UI delegate via the OpenAssetIO `Context`.\n"
   ]
  },
  {
   "cell_type": "markdown",
   "id": "4e3f22b63c85a60a",
   "metadata": {},
   "source": [
    "## C++ specifics"
   ]
  },
  {
   "cell_type": "markdown",
   "id": "87900ad81172f4bc",
   "metadata": {},
   "source": [
    "Usage in C++ is, as with most of OpenAssetIO, much the same as usage in Python. There are the usual translations needed (e.g. `None` becomes a `shared_ptr` holding a `nullptr`), but also one or two C++ specifics."
   ]
  },
  {
   "cell_type": "markdown",
   "id": "3bfbb9f37baa95c4",
   "metadata": {},
   "source": [
    "### nativeData"
   ]
  },
  {
   "cell_type": "markdown",
   "id": "2b33e6815e9cb487",
   "metadata": {},
   "source": [
    "In Python, the `nativeData` held by `UIDelegateRequestInterface` and `UIDelegateStateInterface` classes can be any arbitrary object - trivial to do in Python. But of course C++ is strongly typed, so we can't return arbitrary objects from function calls. To work around this the `nativeData()` method in C++ returns a `std::any`, which must be unpacked via `std::any_cast` to the actual native type.\n"
   ]
  },
  {
   "cell_type": "markdown",
   "id": "1eb3840b30d11318",
   "metadata": {},
   "source": [
    "#### Python -> C++ nativeData"
   ]
  },
  {
   "cell_type": "markdown",
   "id": "65ec05f92b186bf7",
   "metadata": {},
   "source": [
    "When the host and UI delegate plugin are written in different languages, specifically Python and C++, the usage of `nativeData` is a special case.\n",
    "\n",
    "To determine when this case applies at runtime, we can make use of the `info()` method. For host applications, there is an `info()` method on the `UIDelegate` instance. For plugins, there is an `info()` method on the `HostInterface` instance (accessible via `hostSession.host().info()`). This returns an arbitrary dictionary, and, as alluded to earlier, some of the keys in this dictionary have a special meaning. In particular the `openassetio.ui.constants.kInfoKey_PythonOnly` (`\"pythonOnly\"`) entry can be `True` to indicate that the plugin/host is written in Python. Python plugins will have this key set automatically, but currently host applications must set it themselves in their `HostInterface` implementation.\n",
    "\n",
    "When Python provides C++ with a `nativeData`, then the `std::any` returned by `nativeData()` will always contain a CPython `PyObject*`. This is a non-owning reference to the Python `nativeData` object - in particular, the host should _not_ attempt to decrement the reference count of this object (unless incrementing it first). \n",
    "\n",
    "It is up to the C++ code to further unpack the `PyObject*`, if necessary. For example, Qt `QWidget` widgets can be converted to/from `PyObject` using Qt's Shiboken API.\n",
    "\n",
    "Conversely, when C++ provides a `nativeData` to Python, the `std::any` returned from `nativeData()` _must_ contain a `PyObject*`. The Python bindings will raise an exception if this is not the case when the `nativeData()` method is called in Python.\n",
    "\n",
    "It is then up to the C++ code to properly clean up the `PyObject*` that it placed in the `std::any` when it is no longer needed (e.g. decrement the reference count on destruction of the `std::any`, if required).\n",
    "\n"
   ]
  },
  {
   "cell_type": "markdown",
   "id": "b60eb8a33931f013",
   "metadata": {},
   "source": [
    "### Context.managerState"
   ]
  },
  {
   "cell_type": "markdown",
   "id": "ef2252662c7427f6",
   "metadata": {},
   "source": [
    "As mentioned, the `ManagerStateBase` base class is required to allow the `managerState` object to pass through C++ and Python unmodified. Internally, it's (ab)using a technicality of the Python/C++ bindings and C++ `virtual` inheritance. The `ManagerStateBase` class itself is an empty C++ class, bound to Python.\n",
    "\n",
    "This means you can inherit from `ManagerStateBase` in C++/Python and store an instance in the `Context`, and this instance will persist as it travels into Python/C++ and back out.  However, the instance will only be accessible in the language in which the subclass was defined. That is, a C++ `Context.managerState` will appear empty in Python, and vice versa. This causes complications for hybrid C++/Python plugins, and/or where one of the manager or UI delegate plugins is written in C++ and the other is written in Python.\n",
    "\n",
    "It is currently an exercise to the plugin author to decide how best to work around this case. The `openassetio::python::converter` namespace's `castToPyObject` might be of some help here."
   ]
  }
 ],
 "metadata": {
  "kernelspec": {
   "display_name": "Python 3 (ipykernel)",
   "language": "python",
   "name": "python3"
  },
  "language_info": {
   "codemirror_mode": {
    "name": "ipython",
    "version": 3
   },
   "file_extension": ".py",
   "mimetype": "text/x-python",
   "name": "python",
   "nbconvert_exporter": "python",
   "pygments_lexer": "ipython3",
   "version": "3.11.9"
  },
  "widgets": {
   "application/vnd.jupyter.widget-state+json": {
    "state": {
     "08b292044c1b4b0b9a07dba2e6dcfcce": {
      "model_module": "@jupyter-widgets/controls",
      "model_module_version": "2.0.0",
      "model_name": "DropdownModel",
      "state": {
       "_options_labels": [
        "first/entity",
        "second/entity",
        "third/entity"
       ],
       "index": 2,
       "layout": "IPY_MODEL_77be913883104d79b89070e1ad869c20",
       "style": "IPY_MODEL_f10b5a599a32411688310b204c2ee8cc"
      }
     },
     "157215842d5d4552bd68fd6528873d96": {
      "model_module": "@jupyter-widgets/output",
      "model_module_version": "1.0.0",
      "model_name": "OutputModel",
      "state": {
       "layout": "IPY_MODEL_9c781dd5ec224d58a9efa4541555a3cc",
       "outputs": [
        {
         "name": "stdout",
         "output_type": "stream",
         "text": "Entity 'notebook://project/plate/head/new' with traits: {'openassetio:example.User': {'login': 'Bob'}}\n"
        }
       ]
      }
     },
     "16063ad3a7704d4a963061b6fa3adc25": {
      "model_module": "@jupyter-widgets/controls",
      "model_module_version": "2.0.0",
      "model_name": "LabelModel",
      "state": {
       "layout": "IPY_MODEL_f360f6a83e1e425e9c658630341ad3e9",
       "style": "IPY_MODEL_9bd95acd809a4fb39a68cd562ff2b3c2",
       "value": "Result: [EntityReference('notebook://second/entity')]"
      }
     },
     "17525f46083e4570b7c8a261fae044d6": {
      "model_module": "@jupyter-widgets/controls",
      "model_module_version": "2.0.0",
      "model_name": "DescriptionStyleModel",
      "state": {
       "description_width": ""
      }
     },
     "1ceee38254a341d1a375e413b32ab01b": {
      "model_module": "@jupyter-widgets/controls",
      "model_module_version": "2.0.0",
      "model_name": "LabelModel",
      "state": {
       "layout": "IPY_MODEL_9926e51ba59946b990ccd2bac4eafc85",
       "style": "IPY_MODEL_d577165c2a2d43aa871d782a5e505c44",
       "value": "From inline: [EntityReference('notebook://some/text/again')]"
      }
     },
     "1d1d4f32cf3d4ea3bb1c7aa4c96dd403": {
      "model_module": "@jupyter-widgets/base",
      "model_module_version": "2.0.0",
      "model_name": "LayoutModel",
      "state": {}
     },
     "235968d0d2f0422b8ae1658d51ebbdc0": {
      "model_module": "@jupyter-widgets/controls",
      "model_module_version": "2.0.0",
      "model_name": "TextStyleModel",
      "state": {
       "description_width": "",
       "font_size": null,
       "text_color": null
      }
     },
     "27d166cd4882408b86a02c68d09db419": {
      "model_module": "@jupyter-widgets/base",
      "model_module_version": "2.0.0",
      "model_name": "LayoutModel",
      "state": {}
     },
     "2802cc9d1d08405d892877f43499e30d": {
      "model_module": "@jupyter-widgets/base",
      "model_module_version": "2.0.0",
      "model_name": "LayoutModel",
      "state": {}
     },
     "298177c21fd149f09d05066a7d993be7": {
      "model_module": "@jupyter-widgets/controls",
      "model_module_version": "2.0.0",
      "model_name": "LabelModel",
      "state": {
       "layout": "IPY_MODEL_f7a100c9a6384a6bb2a331707c65250f",
       "style": "IPY_MODEL_2c4922ddc08749dba230e9c3bba8a7e1",
       "value": "From browser: [EntityReference('notebook://third/entity')]"
      }
     },
     "2aaa7c944ea04e6c95b71e71996156f5": {
      "model_module": "@jupyter-widgets/base",
      "model_module_version": "2.0.0",
      "model_name": "LayoutModel",
      "state": {}
     },
     "2c4922ddc08749dba230e9c3bba8a7e1": {
      "model_module": "@jupyter-widgets/controls",
      "model_module_version": "2.0.0",
      "model_name": "LabelStyleModel",
      "state": {
       "description_width": "",
       "font_family": null,
       "font_size": null,
       "font_style": null,
       "font_variant": null,
       "font_weight": null,
       "text_color": null,
       "text_decoration": null
      }
     },
     "2d13fe74b5bd4627bb8612e515dd6195": {
      "model_module": "@jupyter-widgets/base",
      "model_module_version": "2.0.0",
      "model_name": "LayoutModel",
      "state": {}
     },
     "2e6c8cbd40624e09a378952efd10823f": {
      "model_module": "@jupyter-widgets/controls",
      "model_module_version": "2.0.0",
      "model_name": "DescriptionStyleModel",
      "state": {
       "description_width": ""
      }
     },
     "3243154b0f21462eadd1b7024b738990": {
      "model_module": "@jupyter-widgets/controls",
      "model_module_version": "2.0.0",
      "model_name": "LabelModel",
      "state": {
       "layout": "IPY_MODEL_8867f9b93ef04f6ea00011b089153618",
       "style": "IPY_MODEL_497b505718cf445a80c98d2c8c2fec33",
       "value": "Type some text and press ENTER"
      }
     },
     "338e661884d74163a6beddb593c48272": {
      "model_module": "@jupyter-widgets/controls",
      "model_module_version": "2.0.0",
      "model_name": "DescriptionStyleModel",
      "state": {
       "description_width": ""
      }
     },
     "3ea589ea21d34ca98115db17523e0008": {
      "model_module": "@jupyter-widgets/controls",
      "model_module_version": "2.0.0",
      "model_name": "LabelStyleModel",
      "state": {
       "description_width": "",
       "font_family": null,
       "font_size": null,
       "font_style": null,
       "font_variant": null,
       "font_weight": null,
       "text_color": null,
       "text_decoration": null
      }
     },
     "3eb185fec3c94adb8e822e28f08b4c68": {
      "model_module": "@jupyter-widgets/controls",
      "model_module_version": "2.0.0",
      "model_name": "DropdownModel",
      "state": {
       "_options_labels": [
        "first/entity",
        "second/entity"
       ],
       "index": 1,
       "layout": "IPY_MODEL_df57496e61f641328cc84ddf927069f6",
       "style": "IPY_MODEL_e135b34a4e4a47538358f944c3a0d983"
      }
     },
     "422bc2c903d44265b6874e3929bc46da": {
      "model_module": "@jupyter-widgets/base",
      "model_module_version": "2.0.0",
      "model_name": "LayoutModel",
      "state": {}
     },
     "4577cb13ecaf4c7f99d4868ffd989d30": {
      "model_module": "@jupyter-widgets/controls",
      "model_module_version": "2.0.0",
      "model_name": "LabelModel",
      "state": {
       "layout": "IPY_MODEL_2802cc9d1d08405d892877f43499e30d",
       "style": "IPY_MODEL_f9bd255732124817b37b375b30d9286c",
       "value": "Choose from above, or type some text and press ENTER"
      }
     },
     "4597f8c24c3e4d1ca6f4be37fd297b84": {
      "model_module": "@jupyter-widgets/controls",
      "model_module_version": "2.0.0",
      "model_name": "TextStyleModel",
      "state": {
       "description_width": "",
       "font_size": null,
       "text_color": null
      }
     },
     "467a00f8999e43c6b5119b6a8f28e791": {
      "model_module": "@jupyter-widgets/base",
      "model_module_version": "2.0.0",
      "model_name": "LayoutModel",
      "state": {}
     },
     "46c7747e850b42c4aa4a1b66aa890ce3": {
      "model_module": "@jupyter-widgets/output",
      "model_module_version": "1.0.0",
      "model_name": "OutputModel",
      "state": {
       "layout": "IPY_MODEL_d5bb34ad967943e4bef2d2c512daa3a7",
       "outputs": [
        {
         "name": "stdout",
         "output_type": "stream",
         "text": "Type some text and press ENTER\n"
        }
       ]
      }
     },
     "487bdd000cc740b79b7402e58989afaa": {
      "model_module": "@jupyter-widgets/controls",
      "model_module_version": "2.0.0",
      "model_name": "TextModel",
      "state": {
       "continuous_update": false,
       "layout": "IPY_MODEL_777cd3b0dc0a47fdba226c716b26a677",
       "placeholder": "Enter text...",
       "style": "IPY_MODEL_837567442dfa408eb274cdf46df83eb6",
       "value": "some/text/again"
      }
     },
     "497b505718cf445a80c98d2c8c2fec33": {
      "model_module": "@jupyter-widgets/controls",
      "model_module_version": "2.0.0",
      "model_name": "LabelStyleModel",
      "state": {
       "description_width": "",
       "font_family": null,
       "font_size": null,
       "font_style": null,
       "font_variant": null,
       "font_weight": null,
       "text_color": null,
       "text_decoration": null
      }
     },
     "4da62039c8334642a5e0ae0624da33ac": {
      "model_module": "@jupyter-widgets/base",
      "model_module_version": "2.0.0",
      "model_name": "LayoutModel",
      "state": {}
     },
     "4f8bd366dec749a9a82530a116f29dee": {
      "model_module": "@jupyter-widgets/controls",
      "model_module_version": "2.0.0",
      "model_name": "TextModel",
      "state": {
       "continuous_update": false,
       "layout": "IPY_MODEL_623feb03bb3d45d3afc0cf90b9641c2c",
       "placeholder": "Enter text...",
       "style": "IPY_MODEL_9d5fa90f3f89433b8d16e2420953d0b8"
      }
     },
     "51b3303e92cc430d92165a9358bcd93a": {
      "model_module": "@jupyter-widgets/base",
      "model_module_version": "2.0.0",
      "model_name": "LayoutModel",
      "state": {}
     },
     "521be86e1bf646638a2c054b31a0b1d1": {
      "model_module": "@jupyter-widgets/controls",
      "model_module_version": "2.0.0",
      "model_name": "LabelModel",
      "state": {
       "layout": "IPY_MODEL_e11139c0615d49f69854e0b141a3dc29",
       "style": "IPY_MODEL_717df3b790af436383ed89bb147e3158",
       "value": "From browser: [EntityReference('notebook://second/entity')]"
      }
     },
     "548ba7c8c5824f678ca1c17098a0b872": {
      "model_module": "@jupyter-widgets/controls",
      "model_module_version": "2.0.0",
      "model_name": "TextModel",
      "state": {
       "continuous_update": false,
       "layout": "IPY_MODEL_27d166cd4882408b86a02c68d09db419",
       "placeholder": "Enter text...",
       "style": "IPY_MODEL_a9e5118cdab34493b240537f8fdf5398"
      }
     },
     "55db0017a03a4e10951120f2ed7695af": {
      "model_module": "@jupyter-widgets/output",
      "model_module_version": "1.0.0",
      "model_name": "OutputModel",
      "state": {
       "layout": "IPY_MODEL_8247b1ba035b42e2bb270b2faad74085",
       "outputs": [
        {
         "name": "stdout",
         "output_type": "stream",
         "text": "From UI delegate: [EntityReference('notebook://some/text')]\n"
        }
       ]
      }
     },
     "566cb41649264097a96f3787c3eef38d": {
      "model_module": "@jupyter-widgets/base",
      "model_module_version": "2.0.0",
      "model_name": "LayoutModel",
      "state": {}
     },
     "57147b70a9d841b4b9328116af2dd38f": {
      "model_module": "@jupyter-widgets/controls",
      "model_module_version": "2.0.0",
      "model_name": "TextModel",
      "state": {
       "continuous_update": false,
       "layout": "IPY_MODEL_9bd574b268a04b02954ccacce65dcdf3",
       "placeholder": "Enter text...",
       "style": "IPY_MODEL_d0299c82770644d8af9e6d42b82d015c",
       "value": "second/entity"
      }
     },
     "578a2fc39959417fbeec2468cd76b532": {
      "model_module": "@jupyter-widgets/controls",
      "model_module_version": "2.0.0",
      "model_name": "TextStyleModel",
      "state": {
       "description_width": "",
       "font_size": null,
       "text_color": null
      }
     },
     "6087126e67d945658ee53f6df7b1b882": {
      "model_module": "@jupyter-widgets/controls",
      "model_module_version": "2.0.0",
      "model_name": "TextStyleModel",
      "state": {
       "description_width": "",
       "font_size": null,
       "text_color": null
      }
     },
     "623feb03bb3d45d3afc0cf90b9641c2c": {
      "model_module": "@jupyter-widgets/base",
      "model_module_version": "2.0.0",
      "model_name": "LayoutModel",
      "state": {}
     },
     "706059b254704209b7a737e8a929a1e0": {
      "model_module": "@jupyter-widgets/controls",
      "model_module_version": "2.0.0",
      "model_name": "LabelModel",
      "state": {
       "layout": "IPY_MODEL_2aaa7c944ea04e6c95b71e71996156f5",
       "style": "IPY_MODEL_3ea589ea21d34ca98115db17523e0008",
       "value": "Result: [EntityReference('notebook://second/entity')]"
      }
     },
     "717df3b790af436383ed89bb147e3158": {
      "model_module": "@jupyter-widgets/controls",
      "model_module_version": "2.0.0",
      "model_name": "LabelStyleModel",
      "state": {
       "description_width": "",
       "font_family": null,
       "font_size": null,
       "font_style": null,
       "font_variant": null,
       "font_weight": null,
       "text_color": null,
       "text_decoration": null
      }
     },
     "733dcbbd9015471a86c74e83494d5a4e": {
      "model_module": "@jupyter-widgets/controls",
      "model_module_version": "2.0.0",
      "model_name": "DropdownModel",
      "state": {
       "_options_labels": [
        "first/entity",
        "second/entity"
       ],
       "index": 1,
       "layout": "IPY_MODEL_467a00f8999e43c6b5119b6a8f28e791",
       "style": "IPY_MODEL_338e661884d74163a6beddb593c48272"
      }
     },
     "777cd3b0dc0a47fdba226c716b26a677": {
      "model_module": "@jupyter-widgets/base",
      "model_module_version": "2.0.0",
      "model_name": "LayoutModel",
      "state": {}
     },
     "77be913883104d79b89070e1ad869c20": {
      "model_module": "@jupyter-widgets/base",
      "model_module_version": "2.0.0",
      "model_name": "LayoutModel",
      "state": {}
     },
     "7b8e4d108e3344c2920e53ddd716df54": {
      "model_module": "@jupyter-widgets/base",
      "model_module_version": "2.0.0",
      "model_name": "LayoutModel",
      "state": {}
     },
     "8247b1ba035b42e2bb270b2faad74085": {
      "model_module": "@jupyter-widgets/base",
      "model_module_version": "2.0.0",
      "model_name": "LayoutModel",
      "state": {}
     },
     "837567442dfa408eb274cdf46df83eb6": {
      "model_module": "@jupyter-widgets/controls",
      "model_module_version": "2.0.0",
      "model_name": "TextStyleModel",
      "state": {
       "description_width": "",
       "font_size": null,
       "text_color": null
      }
     },
     "8534a9b183694ab095c3b65caefb5092": {
      "model_module": "@jupyter-widgets/base",
      "model_module_version": "2.0.0",
      "model_name": "LayoutModel",
      "state": {}
     },
     "87ddd2054cc74a6caede3e25aa875597": {
      "model_module": "@jupyter-widgets/controls",
      "model_module_version": "2.0.0",
      "model_name": "TextModel",
      "state": {
       "continuous_update": false,
       "layout": "IPY_MODEL_2d13fe74b5bd4627bb8612e515dd6195",
       "placeholder": "Enter text...",
       "style": "IPY_MODEL_235968d0d2f0422b8ae1658d51ebbdc0",
       "value": "some/text"
      }
     },
     "8867f9b93ef04f6ea00011b089153618": {
      "model_module": "@jupyter-widgets/base",
      "model_module_version": "2.0.0",
      "model_name": "LayoutModel",
      "state": {}
     },
     "8e3b5e09972e4db4bfebffdea3b392da": {
      "model_module": "@jupyter-widgets/controls",
      "model_module_version": "2.0.0",
      "model_name": "LabelModel",
      "state": {
       "layout": "IPY_MODEL_422bc2c903d44265b6874e3929bc46da",
       "style": "IPY_MODEL_d27fa56f0e3f4b33ab51572c497853d6",
       "value": "Choose from above, or type some text and press ENTER"
      }
     },
     "9926e51ba59946b990ccd2bac4eafc85": {
      "model_module": "@jupyter-widgets/base",
      "model_module_version": "2.0.0",
      "model_name": "LayoutModel",
      "state": {}
     },
     "9bd574b268a04b02954ccacce65dcdf3": {
      "model_module": "@jupyter-widgets/base",
      "model_module_version": "2.0.0",
      "model_name": "LayoutModel",
      "state": {}
     },
     "9bd95acd809a4fb39a68cd562ff2b3c2": {
      "model_module": "@jupyter-widgets/controls",
      "model_module_version": "2.0.0",
      "model_name": "LabelStyleModel",
      "state": {
       "description_width": "",
       "font_family": null,
       "font_size": null,
       "font_style": null,
       "font_variant": null,
       "font_weight": null,
       "text_color": null,
       "text_decoration": null
      }
     },
     "9c781dd5ec224d58a9efa4541555a3cc": {
      "model_module": "@jupyter-widgets/base",
      "model_module_version": "2.0.0",
      "model_name": "LayoutModel",
      "state": {}
     },
     "9d5fa90f3f89433b8d16e2420953d0b8": {
      "model_module": "@jupyter-widgets/controls",
      "model_module_version": "2.0.0",
      "model_name": "TextStyleModel",
      "state": {
       "description_width": "",
       "font_size": null,
       "text_color": null
      }
     },
     "9ee9b0c7604b4a2fa8c5419529a3116c": {
      "model_module": "@jupyter-widgets/base",
      "model_module_version": "2.0.0",
      "model_name": "LayoutModel",
      "state": {}
     },
     "a09f631e093f409b901e0b93fd5e31cb": {
      "model_module": "@jupyter-widgets/base",
      "model_module_version": "2.0.0",
      "model_name": "LayoutModel",
      "state": {}
     },
     "a2263c927b9a4e8c8ea8533818a6f2eb": {
      "model_module": "@jupyter-widgets/controls",
      "model_module_version": "2.0.0",
      "model_name": "DropdownModel",
      "state": {
       "_options_labels": [
        "first/entity",
        "second/entity"
       ],
       "index": 1,
       "layout": "IPY_MODEL_a69ffd81d2ac453f9a4f6e62d4252b88",
       "style": "IPY_MODEL_2e6c8cbd40624e09a378952efd10823f"
      }
     },
     "a69ffd81d2ac453f9a4f6e62d4252b88": {
      "model_module": "@jupyter-widgets/base",
      "model_module_version": "2.0.0",
      "model_name": "LayoutModel",
      "state": {}
     },
     "a9e5118cdab34493b240537f8fdf5398": {
      "model_module": "@jupyter-widgets/controls",
      "model_module_version": "2.0.0",
      "model_name": "TextStyleModel",
      "state": {
       "description_width": "",
       "font_size": null,
       "text_color": null
      }
     },
     "ad95ffda304f42f88cfabc9f07832ca0": {
      "model_module": "@jupyter-widgets/controls",
      "model_module_version": "2.0.0",
      "model_name": "LabelModel",
      "state": {
       "layout": "IPY_MODEL_566cb41649264097a96f3787c3eef38d",
       "style": "IPY_MODEL_cdf845b8bb424b88a14c622390fd4c1a",
       "value": "Type some text and press ENTER"
      }
     },
     "b8e1e1374ac34451a1bf56905996bd3e": {
      "model_module": "@jupyter-widgets/controls",
      "model_module_version": "2.0.0",
      "model_name": "TextModel",
      "state": {
       "continuous_update": false,
       "layout": "IPY_MODEL_a09f631e093f409b901e0b93fd5e31cb",
       "placeholder": "Enter text...",
       "style": "IPY_MODEL_578a2fc39959417fbeec2468cd76b532",
       "value": "some/other/text"
      }
     },
     "ba8e6c10f52340acb1dee4758f0bcd61": {
      "model_module": "@jupyter-widgets/controls",
      "model_module_version": "2.0.0",
      "model_name": "TextStyleModel",
      "state": {
       "description_width": "",
       "font_size": null,
       "text_color": null
      }
     },
     "c06d98ad07264de7a1934772d4232412": {
      "model_module": "@jupyter-widgets/controls",
      "model_module_version": "2.0.0",
      "model_name": "DropdownModel",
      "state": {
       "_options_labels": [
        "project/plate/background",
        "project/plate/head"
       ],
       "index": 1,
       "layout": "IPY_MODEL_4da62039c8334642a5e0ae0624da33ac",
       "style": "IPY_MODEL_17525f46083e4570b7c8a261fae044d6"
      }
     },
     "c3808739e6b843d48004b4d246f189d6": {
      "model_module": "@jupyter-widgets/controls",
      "model_module_version": "2.0.0",
      "model_name": "LabelStyleModel",
      "state": {
       "description_width": "",
       "font_family": null,
       "font_size": null,
       "font_style": null,
       "font_variant": null,
       "font_weight": null,
       "text_color": null,
       "text_decoration": null
      }
     },
     "ca2a79e6aba740888138a9a601e90812": {
      "model_module": "@jupyter-widgets/controls",
      "model_module_version": "2.0.0",
      "model_name": "TextModel",
      "state": {
       "continuous_update": false,
       "layout": "IPY_MODEL_8534a9b183694ab095c3b65caefb5092",
       "placeholder": "Enter text...",
       "style": "IPY_MODEL_6087126e67d945658ee53f6df7b1b882"
      }
     },
     "ccb9b9fc21d446e5aa1a02964debb442": {
      "model_module": "@jupyter-widgets/controls",
      "model_module_version": "2.0.0",
      "model_name": "TextModel",
      "state": {
       "continuous_update": false,
       "layout": "IPY_MODEL_51b3303e92cc430d92165a9358bcd93a",
       "placeholder": "Enter text...",
       "style": "IPY_MODEL_e3922d9ef2914efd9dfa9f73736b5133",
       "value": "second/entity"
      }
     },
     "cdf845b8bb424b88a14c622390fd4c1a": {
      "model_module": "@jupyter-widgets/controls",
      "model_module_version": "2.0.0",
      "model_name": "LabelStyleModel",
      "state": {
       "description_width": "",
       "font_family": null,
       "font_size": null,
       "font_style": null,
       "font_variant": null,
       "font_weight": null,
       "text_color": null,
       "text_decoration": null
      }
     },
     "d0299c82770644d8af9e6d42b82d015c": {
      "model_module": "@jupyter-widgets/controls",
      "model_module_version": "2.0.0",
      "model_name": "TextStyleModel",
      "state": {
       "description_width": "",
       "font_size": null,
       "text_color": null
      }
     },
     "d27fa56f0e3f4b33ab51572c497853d6": {
      "model_module": "@jupyter-widgets/controls",
      "model_module_version": "2.0.0",
      "model_name": "LabelStyleModel",
      "state": {
       "description_width": "",
       "font_family": null,
       "font_size": null,
       "font_style": null,
       "font_variant": null,
       "font_weight": null,
       "text_color": null,
       "text_decoration": null
      }
     },
     "d504500bdb8345278048a91e14faf187": {
      "model_module": "@jupyter-widgets/controls",
      "model_module_version": "2.0.0",
      "model_name": "TextModel",
      "state": {
       "continuous_update": false,
       "layout": "IPY_MODEL_1d1d4f32cf3d4ea3bb1c7aa4c96dd403",
       "placeholder": "Enter text...",
       "style": "IPY_MODEL_4597f8c24c3e4d1ca6f4be37fd297b84"
      }
     },
     "d577165c2a2d43aa871d782a5e505c44": {
      "model_module": "@jupyter-widgets/controls",
      "model_module_version": "2.0.0",
      "model_name": "LabelStyleModel",
      "state": {
       "description_width": "",
       "font_family": null,
       "font_size": null,
       "font_style": null,
       "font_variant": null,
       "font_weight": null,
       "text_color": null,
       "text_decoration": null
      }
     },
     "d5bb34ad967943e4bef2d2c512daa3a7": {
      "model_module": "@jupyter-widgets/base",
      "model_module_version": "2.0.0",
      "model_name": "LayoutModel",
      "state": {}
     },
     "d7e96adb8f7f4858a186271448991ba7": {
      "model_module": "@jupyter-widgets/controls",
      "model_module_version": "2.0.0",
      "model_name": "TextModel",
      "state": {
       "continuous_update": false,
       "layout": "IPY_MODEL_7b8e4d108e3344c2920e53ddd716df54",
       "placeholder": "Enter text...",
       "style": "IPY_MODEL_ba8e6c10f52340acb1dee4758f0bcd61"
      }
     },
     "df57496e61f641328cc84ddf927069f6": {
      "model_module": "@jupyter-widgets/base",
      "model_module_version": "2.0.0",
      "model_name": "LayoutModel",
      "state": {}
     },
     "e11139c0615d49f69854e0b141a3dc29": {
      "model_module": "@jupyter-widgets/base",
      "model_module_version": "2.0.0",
      "model_name": "LayoutModel",
      "state": {}
     },
     "e135b34a4e4a47538358f944c3a0d983": {
      "model_module": "@jupyter-widgets/controls",
      "model_module_version": "2.0.0",
      "model_name": "DescriptionStyleModel",
      "state": {
       "description_width": ""
      }
     },
     "e3922d9ef2914efd9dfa9f73736b5133": {
      "model_module": "@jupyter-widgets/controls",
      "model_module_version": "2.0.0",
      "model_name": "TextStyleModel",
      "state": {
       "description_width": "",
       "font_size": null,
       "text_color": null
      }
     },
     "f10b5a599a32411688310b204c2ee8cc": {
      "model_module": "@jupyter-widgets/controls",
      "model_module_version": "2.0.0",
      "model_name": "DescriptionStyleModel",
      "state": {
       "description_width": ""
      }
     },
     "f360f6a83e1e425e9c658630341ad3e9": {
      "model_module": "@jupyter-widgets/base",
      "model_module_version": "2.0.0",
      "model_name": "LayoutModel",
      "state": {}
     },
     "f47e4aeb9b7e49ff92a3627c69c6d7a5": {
      "model_module": "@jupyter-widgets/controls",
      "model_module_version": "2.0.0",
      "model_name": "LabelModel",
      "state": {
       "layout": "IPY_MODEL_9ee9b0c7604b4a2fa8c5419529a3116c",
       "style": "IPY_MODEL_c3808739e6b843d48004b4d246f189d6",
       "value": "From UI delegate: [EntityReference('notebook://some/other/text')]"
      }
     },
     "f7a100c9a6384a6bb2a331707c65250f": {
      "model_module": "@jupyter-widgets/base",
      "model_module_version": "2.0.0",
      "model_name": "LayoutModel",
      "state": {}
     },
     "f9bd255732124817b37b375b30d9286c": {
      "model_module": "@jupyter-widgets/controls",
      "model_module_version": "2.0.0",
      "model_name": "LabelStyleModel",
      "state": {
       "description_width": "",
       "font_family": null,
       "font_size": null,
       "font_style": null,
       "font_variant": null,
       "font_weight": null,
       "text_color": null,
       "text_decoration": null
      }
     }
    },
    "version_major": 2,
    "version_minor": 0
   }
  }
 },
 "nbformat": 4,
 "nbformat_minor": 5
}
